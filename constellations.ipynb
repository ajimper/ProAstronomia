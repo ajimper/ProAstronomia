{
  "nbformat": 4,
  "nbformat_minor": 0,
  "metadata": {
    "colab": {
      "provenance": [],
      "authorship_tag": "ABX9TyNnn9hYKDkPmXLCTj3CbhnE",
      "include_colab_link": true
    },
    "kernelspec": {
      "name": "python3",
      "display_name": "Python 3"
    },
    "language_info": {
      "name": "python"
    }
  },
  "cells": [
    {
      "cell_type": "markdown",
      "metadata": {
        "id": "view-in-github",
        "colab_type": "text"
      },
      "source": [
        "<a href=\"https://colab.research.google.com/github/ajimper/ProAstronomia/blob/main/constellations.ipynb\" target=\"_parent\"><img src=\"https://colab.research.google.com/assets/colab-badge.svg\" alt=\"Open In Colab\"/></a>"
      ]
    },
    {
      "cell_type": "code",
      "source": [
        "!pip install astropy"
      ],
      "metadata": {
        "colab": {
          "base_uri": "https://localhost:8080/"
        },
        "id": "_GUwnv7gtZq4",
        "outputId": "35703afc-16a0-4a02-8819-22c09aed066b"
      },
      "execution_count": 1,
      "outputs": [
        {
          "output_type": "stream",
          "name": "stdout",
          "text": [
            "Requirement already satisfied: astropy in /usr/local/lib/python3.10/dist-packages (5.2.2)\n",
            "Requirement already satisfied: numpy>=1.20 in /usr/local/lib/python3.10/dist-packages (from astropy) (1.22.4)\n",
            "Requirement already satisfied: pyerfa>=2.0 in /usr/local/lib/python3.10/dist-packages (from astropy) (2.0.0.3)\n",
            "Requirement already satisfied: PyYAML>=3.13 in /usr/local/lib/python3.10/dist-packages (from astropy) (6.0)\n",
            "Requirement already satisfied: packaging>=19.0 in /usr/local/lib/python3.10/dist-packages (from astropy) (23.1)\n"
          ]
        }
      ]
    },
    {
      "cell_type": "code",
      "source": [
        "!pip install skyview"
      ],
      "metadata": {
        "id": "UHTxLTNxuFJB"
      },
      "execution_count": null,
      "outputs": []
    },
    {
      "cell_type": "code",
      "execution_count": null,
      "metadata": {
        "id": "32EWKGiBs7nh"
      },
      "outputs": [],
      "source": [
        "import numpy as np\n",
        "import matplotlib.pyplot as plt\n",
        "from astropy.wcs import WCS\n",
        "from astropy.io import fits\n",
        "from skyview import SkyView\n",
        "from astropy.visualization.wcsaxes import SphericalCircle\n",
        "\n",
        "# Obtener el mapa de la constelación de Orión en la banda roja del DSS2\n",
        "image = SkyView.get_images(position='Orion', survey='DSS2 Red')[0]\n",
        "data = image[0].data\n",
        "header = image[0].header\n",
        "\n",
        "# Obtener los contornos de la constelación de Orión\n",
        "contours = SkyView.get_contours(position='Orion', survey='DSS2 Red')\n",
        "\n",
        "# Crear una figura y un subplot\n",
        "fig = plt.figure()\n",
        "ax = fig.add_subplot(111, projection=WCS(header))\n",
        "\n",
        "# Mostrar el mapa astronómico y los contornos de la constelación\n",
        "ax.imshow(data, origin='lower', cmap='gray')\n",
        "for contour in contours:\n",
        "    ax.contour(contour, levels=[0.5], colors='red')\n",
        "\n",
        "# Agregar las líneas y etiquetas de las estrellas más brillantes\n",
        "ra = [79.1725, 78.6345, 79.1717, 78.6348]  # Ejemplo de coordenadas RA de estrellas brillantes\n",
        "dec = [9.9217, 9.9348, 9.9217, 9.9348]  # Ejemplo de coordenadas DEC de estrellas brillantes\n",
        "names = ['Betelgeuse', 'Rigel', 'Bellatrix', 'Saiph']  # Ejemplo de nombres de estrellas brillantes\n",
        "\n",
        "for i in range(len(ra)):\n",
        "    circle = SphericalCircle((ra[i], dec[i]), 0.2, transform=ax.get_transform('world'), edgecolor='white', facecolor='none')\n",
        "    ax.add_patch(circle)\n",
        "    ax.text(ra[i], dec[i], names[i], transform=ax.get_transform('world'), color='white')\n",
        "\n",
        "# Mostrar la figura\n",
        "plt.show()"
      ]
    }
  ]
}