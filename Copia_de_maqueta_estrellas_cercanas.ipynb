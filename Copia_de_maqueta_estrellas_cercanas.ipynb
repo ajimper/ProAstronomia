{
  "cells": [
    {
      "cell_type": "markdown",
      "metadata": {
        "id": "view-in-github",
        "colab_type": "text"
      },
      "source": [
        "<a href=\"https://colab.research.google.com/github/ajimper/ProAstronomia/blob/main/Copia_de_maqueta_estrellas_cercanas.ipynb\" target=\"_parent\"><img src=\"https://colab.research.google.com/assets/colab-badge.svg\" alt=\"Open In Colab\"/></a>"
      ]
    },
    {
      "cell_type": "markdown",
      "id": "1ecfb41a-17b8-48ef-b6ab-b8ae995a5d22",
      "metadata": {
        "id": "1ecfb41a-17b8-48ef-b6ab-b8ae995a5d22"
      },
      "source": [
        "Construyendo un modelo para una maqueta de las estrellas cercanas\n",
        "================================="
      ]
    },
    {
      "cell_type": "code",
      "execution_count": null,
      "id": "a757e8e8-e027-4876-aab6-71170a3c71af",
      "metadata": {
        "id": "a757e8e8-e027-4876-aab6-71170a3c71af"
      },
      "outputs": [],
      "source": [
        "#from IPython.display import FileLink, FileLinks"
      ]
    },
    {
      "cell_type": "markdown",
      "id": "d3566cf1-35cf-464b-9dac-55da4f811d69",
      "metadata": {
        "id": "d3566cf1-35cf-464b-9dac-55da4f811d69"
      },
      "source": [
        "## La tarea\n",
        "- **Preparar una maqueta del vecindario estelar para nuestro Museo, que indique su posición en la galaxia, sus parámetros físicos elementales, así como sus sistemas planetarios, partiendo de datos reales actualizados.**\n",
        "- **Fabricar el modelo y documentar los sistemas estelares que representa**"
      ]
    },
    {
      "cell_type": "markdown",
      "id": "298e1262-79e6-4563-90fc-1a5aab1a04f9",
      "metadata": {
        "id": "298e1262-79e6-4563-90fc-1a5aab1a04f9"
      },
      "source": [
        "![Maqueta de las estrellas cercanas](./img/tarea.png \"Maqueta de las estrellas cercanas\")"
      ]
    },
    {
      "cell_type": "markdown",
      "id": "d394c714-4fa1-4e72-9ecc-860c44431391",
      "metadata": {
        "id": "d394c714-4fa1-4e72-9ecc-860c44431391"
      },
      "source": [
        "Hay que representar una cantidad razonable de estrellas (que habrá que determinar, limitando la distancia de corte de nuestro subconjunto de estrellas) en un sistema de referencia cartesiano (para facilitar su construción en una escala reducida a cm), a partir de coordenadas galácticas con centro en el Sol, o sea, el plano representado será el que pasa por el Sol, paralelo al plano galáctico. Y ello es porque vamos a representar una vecindad de estrellas en la **Galaxia**, y es como si estuviéramos mirando desde fuera del Sistema Solar, por ello no nos interesa lo que se vería desde la Tierra (sistemas altaazimutal o ecuatorial con un marco de referencia geocéntrico o topocéntrico), sino las coordenadas de las estrellas en la bóveda celeste vistas un punto exterior al grupo de estrellas, para lo cual sí sería más apropiado usar un sistema de coordenadas galáctico con un marco de referencia heliocéntrico.  "
      ]
    },
    {
      "cell_type": "markdown",
      "id": "155ffeff-8d20-4888-92e7-4fb9a23de969",
      "metadata": {
        "id": "155ffeff-8d20-4888-92e7-4fb9a23de969"
      },
      "source": [
        "Intentaremos generar una maqueta de las estrellas cercanas en la vecindad del sol, a partir de un dataset obtenido de un catálogo real. La muestra de estrellas cercanas en la vecindad de 10 pc, publicada por Reylé et al. [*The 10 parsec sample in the* Gaia *era*](<https://www.aanda.org/articles/aa/pdf/2021/06/aa40985-21.pdf>) (descargable también [aquí](<https://gruze.org/10pc/resources/images/The10pcSample.pdf>)) es el mejor candidato, porque está muy actualizado (23 de abril de 2021), es sencillo, pequeño y contiene todo los parámetros necesarios.\n",
        "Para ello, es posible utilizar una biblioteca especializada en astronomía como `astroPy`, y comenzaremos importando un módulo para leer el catálogo en la estructura de datos adecuada de Python:"
      ]
    },
    {
      "cell_type": "code",
      "execution_count": null,
      "id": "4a1007b7-ddb6-49c8-8702-f024c404066b",
      "metadata": {
        "id": "4a1007b7-ddb6-49c8-8702-f024c404066b"
      },
      "outputs": [],
      "source": [
        "from astropy.io import ascii"
      ]
    },
    {
      "cell_type": "markdown",
      "id": "9665515a-e127-48fa-acc8-8251db1da3ea",
      "metadata": {
        "id": "9665515a-e127-48fa-acc8-8251db1da3ea"
      },
      "source": [
        "Llamaremos a esta estructura ```nearbyStars```, y cargaremos los datos que, previamente, hemos [descargado](https://gruze.org/10pc) localmente, aquí [./catalog/The10pcSample.csv](./catalog/The10pcSample.csv)"
      ]
    },
    {
      "cell_type": "code",
      "execution_count": null,
      "id": "f55ba16d-d94b-4b8a-b2bc-34ce252d1303",
      "metadata": {
        "id": "f55ba16d-d94b-4b8a-b2bc-34ce252d1303"
      },
      "outputs": [],
      "source": [
        "nearbyStars= ascii.read('./catalog/The10pcSample.csv')"
      ]
    },
    {
      "cell_type": "markdown",
      "id": "d9221930-849f-4e07-aa96-dac45c34246f",
      "metadata": {
        "id": "d9221930-849f-4e07-aa96-dac45c34246f"
      },
      "source": [
        "probamos lo que hemos obtenido, con algunas columnas de la tabla que nos interesan. La explicación de las columnas está en el mismo artículo o en este archivo [./catalog/The10pcSample.ReadMe.txt](./catalog/The10pcSample.ReadMe.txt):"
      ]
    },
    {
      "cell_type": "code",
      "execution_count": null,
      "id": "434f7413-bdcf-4e8e-a553-455b2e93751d",
      "metadata": {
        "id": "434f7413-bdcf-4e8e-a553-455b2e93751d",
        "outputId": "97aade67-2d18-4675-ee0b-d675bcaf8c42"
      },
      "outputs": [
        {
          "data": {
            "text/html": [
              "<div><i>Table length=559</i>\n",
              "<table id=\"table2221424220384\" class=\"table-striped table-bordered table-condensed\">\n",
              "<thead><tr><th>NB_OBJ</th><th>NB_SYS</th><th>SYSTEM_NAME</th><th>OBJ_CAT</th><th>OBJ_NAME</th><th>RA</th><th>DEC</th><th>EPOCH</th><th>PARALLAX</th><th>PARALLAX_ERROR</th><th>PARALLAX_BIBCODE</th><th>PMRA</th><th>PMRA_ERROR</th><th>PMDEC</th><th>PMDEC_ERROR</th><th>PM_BIBCODE</th><th>RV</th><th>RV_ERROR</th><th>RV_BIBCODE</th><th>SP_TYPE</th><th>SP_BIBCODE</th><th>SP_METHOD</th><th>G_CODE</th><th>G</th><th>G_ESTIMATE</th><th>GBP</th><th>GRP</th><th>U</th><th>B</th><th>V</th><th>R</th><th>I</th><th>J</th><th>H</th><th>K</th><th>SYSTEM_BIBCODE</th><th>EXOPLANET_COUNT</th><th>GAIA_DR2</th><th>GAIA_EDR3</th><th>SIMBAD_NAME</th><th>COMMON_NAME</th><th>GJ</th><th>HD</th><th>HIP</th><th>COMMENT</th></tr></thead>\n",
              "<thead><tr><th>int32</th><th>int32</th><th>str26</th><th>str6</th><th>str28</th><th>float64</th><th>float64</th><th>float64</th><th>float64</th><th>float64</th><th>str31</th><th>float64</th><th>float64</th><th>float64</th><th>float64</th><th>str30</th><th>float64</th><th>float64</th><th>str19</th><th>str8</th><th>str25</th><th>str12</th><th>int32</th><th>float64</th><th>float64</th><th>float64</th><th>float64</th><th>float64</th><th>float64</th><th>float64</th><th>float64</th><th>float64</th><th>float64</th><th>float64</th><th>float64</th><th>str19</th><th>int32</th><th>str28</th><th>str29</th><th>str26</th><th>str17</th><th>str10</th><th>str12</th><th>str10</th><th>str348</th></tr></thead>\n",
              "<tr><td>1</td><td>1</td><td>alf Cen</td><td>LM</td><td>Proxima Cen</td><td>217.392321472009</td><td>-62.6760751167667</td><td>2016.0</td><td>768.066539187357</td><td>0.049872905</td><td>2020yCat.1350....0G</td><td>-3781.74100826516</td><td>0.031386077</td><td>769.465014647862</td><td>0.050524533</td><td>2020yCat.1350....0G</td><td>-22.345</td><td>0.006</td><td>2014MNRAS.439.3094B</td><td>M5.5</td><td>1995AJ....110.1838R</td><td>Opt Spec</td><td>3</td><td>8.984749</td><td>--</td><td>11.373116</td><td>7.5685353</td><td>14.21</td><td>12.95</td><td>11.13</td><td>9.45</td><td>7.41</td><td>5.357</td><td>4.835</td><td>4.384</td><td>2018A&amp;A...615A.172M</td><td>1</td><td>Gaia DR2 5853498713160606720</td><td>Gaia EDR3 5853498713190525696</td><td>alf Cen C</td><td>Proxima Cen</td><td>GJ 551</td><td>--</td><td>HIP 70890</td><td>Proxima Cen c: candidate planet 2019ESS.....410203D</td></tr>\n",
              "<tr><td>2</td><td>1</td><td>alf Cen</td><td>Planet</td><td>Proxima Cen b</td><td>217.392321472009</td><td>-62.6760751167667</td><td>2016.0</td><td>768.066539187357</td><td>0.049872905</td><td>FROM:ProximaCenC</td><td>--</td><td>--</td><td>--</td><td>--</td><td>--</td><td>--</td><td>--</td><td>--</td><td>--</td><td>--</td><td>--</td><td>--</td><td>--</td><td>--</td><td>--</td><td>--</td><td>--</td><td>--</td><td>--</td><td>--</td><td>--</td><td>--</td><td>--</td><td>--</td><td>2019MNRAS.487..268J</td><td>--</td><td>--</td><td>--</td><td>--</td><td>--</td><td>--</td><td>--</td><td>--</td><td>...</td></tr>\n",
              "<tr><td>3</td><td>1</td><td>alf Cen</td><td>*</td><td>alf Cen A</td><td>219.902058331708</td><td>-60.83399268831</td><td>2000.0</td><td>743.0</td><td>1.3</td><td>2016A&amp;A...586A..90P</td><td>-3679.25</td><td>3.89</td><td>473.67</td><td>3.24</td><td>2007A&amp;A...474..653V</td><td>-22.39</td><td>0.004</td><td>2016A&amp;A...586A..90P</td><td>G2</td><td>2006A&amp;A...460..695T</td><td>Opt Spec</td><td>10</td><td>--</td><td>-0.09</td><td>--</td><td>--</td><td>0.96</td><td>0.72</td><td>0.01</td><td>--</td><td>--</td><td>-1.15</td><td>-1.38</td><td>-1.49</td><td>2018A&amp;A...615A.172M</td><td>--</td><td>--</td><td>--</td><td>alf Cen A</td><td>Rigil Kentaurus</td><td>GJ 559 A</td><td>HD 128620</td><td>HIP 71683</td><td>...</td></tr>\n",
              "<tr><td>4</td><td>1</td><td>alf Cen</td><td>*</td><td>alf Cen B</td><td>219.896096289873</td><td>-60.8375275655841</td><td>2000.0</td><td>743.0</td><td>1.3</td><td>2016A&amp;A...586A..90P</td><td>-3614.39</td><td>20.48</td><td>802.98</td><td>19.52</td><td>2007A&amp;A...474..653V</td><td>-22.39</td><td>0.004</td><td>2016A&amp;A...586A..90P</td><td>K1</td><td>2006A&amp;A...460..695T</td><td>Opt Spec</td><td>10</td><td>--</td><td>1.34</td><td>--</td><td>--</td><td>2.89</td><td>2.21</td><td>1.33</td><td>--</td><td>--</td><td>-0.01</td><td>-0.49</td><td>-0.6</td><td>2018A&amp;A...615A.172M</td><td>--</td><td>--</td><td>--</td><td>alf Cen B</td><td>Toliman</td><td>GJ 559 B</td><td>HD 128621</td><td>HIP 71681</td><td>...</td></tr>\n",
              "<tr><td>5</td><td>2</td><td>Barnard&apos;s Star</td><td>LM</td><td>Barnard&apos;s Star</td><td>269.448502525438</td><td>4.73942005111241</td><td>2016.0</td><td>546.975939730948</td><td>0.040116355</td><td>2020yCat.1350....0G</td><td>-801.550978368471</td><td>0.031820867</td><td>10362.3942065466</td><td>0.036070455</td><td>2020yCat.1350....0G</td><td>-110.353</td><td>0.0032</td><td>2018A&amp;A...616A...7S</td><td>M3.5</td><td>2015A&amp;A...577A.128A</td><td>Opt Spec</td><td>3</td><td>8.1939745</td><td>--</td><td>9.791788</td><td>6.9580913</td><td>12.497</td><td>11.24</td><td>9.511</td><td>8.298</td><td>6.741</td><td>5.244</td><td>4.83</td><td>4.524</td><td>--</td><td>--</td><td>Gaia DR2 4472832130942575872</td><td>Gaia EDR3 4472832130942575872</td><td>Barnard&apos;s Star</td><td>Barnard&apos;s Star</td><td>GJ 699</td><td>--</td><td>HIP 87937</td><td>Barnard&apos;s Star b: candidate planet 2018Natur.563..365R</td></tr>\n",
              "<tr><td>6</td><td>3</td><td>Luhman 16</td><td>BD</td><td>Luhman 16 A</td><td>162.308643668751</td><td>-53.3180447534979</td><td>2016.0</td><td>501.557</td><td>0.082</td><td>2018A&amp;A...618A.111L</td><td>-2759.502</td><td>0.147</td><td>356.856</td><td>0.15</td><td>2018A&amp;A...618A.111L</td><td>--</td><td>--</td><td>--</td><td>L7.5</td><td>2013ApJ...772..129B</td><td>NIR Spec</td><td>3</td><td>16.945</td><td>--</td><td>20.619625</td><td>14.517294</td><td>--</td><td>16.86</td><td>16.2</td><td>--</td><td>14.95</td><td>10.733</td><td>9.563</td><td>8.841</td><td>2013ApJ...767L...1L</td><td>--</td><td>Gaia DR2 5353626573555863424</td><td>Gaia EDR3 5353626573555863424</td><td>Luhman 16A</td><td>Luhman 16</td><td>--</td><td>--</td><td>--</td><td>...</td></tr>\n",
              "<tr><td>7</td><td>3</td><td>Luhman 16</td><td>BD</td><td>Luhman 16 B</td><td>162.308402229118</td><td>-53.3182778100269</td><td>2015.5</td><td>501.557</td><td>0.082</td><td>FROM:Luhman16A</td><td>-2759.502</td><td>0.147</td><td>356.856</td><td>0.15</td><td>FROM:Luhman16A</td><td>--</td><td>--</td><td>--</td><td>T0.5</td><td>2013ApJ...772..129B</td><td>NIR Spec</td><td>2</td><td>16.962</td><td>--</td><td>21.055134</td><td>14.453752</td><td>--</td><td>--</td><td>--</td><td>--</td><td>--</td><td>11.22</td><td>10.39</td><td>9.73</td><td>2013ApJ...767L...1L</td><td>--</td><td>Gaia DR2 5353626573562355584</td><td>--</td><td>Luhman 16B</td><td>Luhman 16</td><td>--</td><td>--</td><td>--</td><td>...</td></tr>\n",
              "<tr><td>8</td><td>4</td><td>WISEA J085510.74-071442.5</td><td>BD</td><td>WISEA J085510.74-071442.5</td><td>133.780984</td><td>-7.243932</td><td>2016.7</td><td>439.0</td><td>2.4</td><td>2021ApJS..253....7K</td><td>-8123.7</td><td>1.3</td><td>673.2</td><td>1.3</td><td>2021ApJS..253....7K</td><td>--</td><td>--</td><td>--</td><td>&gt;Y4</td><td>2021ApJS..253....7K</td><td>NIR Phot</td><td>20</td><td>--</td><td>21.91</td><td>--</td><td>--</td><td>--</td><td>--</td><td>--</td><td>--</td><td>--</td><td>25.0</td><td>23.83</td><td>--</td><td>--</td><td>--</td><td>--</td><td>--</td><td>WISEA J085510.74-071442.5</td><td>--</td><td>--</td><td>--</td><td>--</td><td>...</td></tr>\n",
              "<tr><td>9</td><td>5</td><td>Wolf 359</td><td>LM</td><td>Wolf 359</td><td>164.10319030756</td><td>7.00272694098486</td><td>2016.0</td><td>415.179415678021</td><td>0.06837086</td><td>2020yCat.1350....0G</td><td>-3866.33827514368</td><td>0.08130645</td><td>-2699.21498767917</td><td>0.06910815</td><td>2020yCat.1350....0G</td><td>19.442</td><td>0.032</td><td>2020A&amp;A...636A..36L</td><td>M6</td><td>2019AJ....157...63K</td><td>Opt Spec</td><td>3</td><td>11.038391</td><td>--</td><td>13.770287</td><td>9.58545</td><td>16.706</td><td>15.541</td><td>13.507</td><td>11.684</td><td>9.507</td><td>7.085</td><td>6.482</td><td>6.084</td><td>--</td><td>--</td><td>--</td><td>Gaia EDR3 3864972938605115520</td><td>Wolf 359</td><td>CN Leo</td><td>GJ 406</td><td>--</td><td>--</td><td>Wolf 359 b c: unconfirmed planets 2019arXiv190604644T</td></tr>\n",
              "<tr><td>10</td><td>6</td><td>HD 95735</td><td>LM</td><td>HD 95735</td><td>165.830959675779</td><td>35.9486530326601</td><td>2016.0</td><td>392.752945438765</td><td>0.03206665</td><td>2020yCat.1350....0G</td><td>-580.057087213905</td><td>0.025565954</td><td>-4776.58871944349</td><td>0.030034095</td><td>2020yCat.1350....0G</td><td>-85.016</td><td>0.023</td><td>2020A&amp;A...636A..36L</td><td>M1.5e</td><td>2013AJ....145..102L</td><td>Opt Spec</td><td>3</td><td>6.551172</td><td>--</td><td>7.6911216</td><td>5.475513</td><td>10.03</td><td>8.96</td><td>7.52</td><td>5.99</td><td>4.79</td><td>4.2</td><td>3.64</td><td>3.34</td><td>--</td><td>1</td><td>--</td><td>Gaia EDR3 762815470562110464</td><td>HD 95735</td><td>Lalande 21185</td><td>GJ 411</td><td>HD 95735</td><td>HIP 54035</td><td>...</td></tr>\n",
              "<tr><td>...</td><td>...</td><td>...</td><td>...</td><td>...</td><td>...</td><td>...</td><td>...</td><td>...</td><td>...</td><td>...</td><td>...</td><td>...</td><td>...</td><td>...</td><td>...</td><td>...</td><td>...</td><td>...</td><td>...</td><td>...</td><td>...</td><td>...</td><td>...</td><td>...</td><td>...</td><td>...</td><td>...</td><td>...</td><td>...</td><td>...</td><td>...</td><td>...</td><td>...</td><td>...</td><td>...</td><td>...</td><td>...</td><td>...</td><td>...</td><td>...</td><td>...</td><td>...</td><td>...</td><td>...</td></tr>\n",
              "<tr><td>1010</td><td>1008</td><td>WISEU J050305.68-564834.0</td><td>BD</td><td>WISEU J050305.68-564834.0</td><td>75.776553</td><td>-56.808684</td><td>2016.9</td><td>98.3</td><td>3.9</td><td>2021ApJS..253....7K</td><td>759.2</td><td>9.3</td><td>288.2</td><td>10.1</td><td>2021ApJS..253....7K</td><td>--</td><td>--</td><td>--</td><td>&gt;Y1</td><td>2020ApJ...899..123M</td><td>NIR Phot</td><td>20</td><td>--</td><td>25.46</td><td>--</td><td>--</td><td>--</td><td>--</td><td>--</td><td>--</td><td>--</td><td>--</td><td>--</td><td>--</td><td>--</td><td>--</td><td>--</td><td>--</td><td>WISEU J050305.68-564834.0</td><td>--</td><td>--</td><td>--</td><td>--</td><td>...</td></tr>\n",
              "<tr><td>1011</td><td>1009</td><td>WISE J161441.46+173935.5</td><td>BD</td><td>WISE J161441.46+173935.5</td><td>243.673745</td><td>17.659099</td><td>2016.4</td><td>98.2</td><td>2.7</td><td>2021ApJS..253....7K</td><td>550.6</td><td>1.0</td><td>-477.1</td><td>1.0</td><td>2021ApJS..253....7K</td><td>--</td><td>--</td><td>--</td><td>T9</td><td>2011ApJS..197...19K</td><td>NIR Spec</td><td>20</td><td>--</td><td>25.0</td><td>--</td><td>--</td><td>--</td><td>--</td><td>--</td><td>--</td><td>--</td><td>19.084</td><td>18.471</td><td>--</td><td>--</td><td>--</td><td>--</td><td>--</td><td>WISE J161441.46+173935.5</td><td>--</td><td>--</td><td>--</td><td>--</td><td>...</td></tr>\n",
              "<tr><td>1012</td><td>1010</td><td>WISEPA J075108.79-763449.6</td><td>BD</td><td>WISEPA J075108.79-763449.6</td><td>117.78645</td><td>-76.580638</td><td>2013.2</td><td>97.9</td><td>6.7</td><td>2019ApJS..240...19K</td><td>-104.8</td><td>2.8</td><td>-189.7</td><td>4.5</td><td>2019ApJS..240...19K</td><td>--</td><td>--</td><td>--</td><td>T9</td><td>2011APJS..197...19K</td><td>NIR Spec</td><td>20</td><td>--</td><td>25.05</td><td>--</td><td>--</td><td>--</td><td>--</td><td>--</td><td>--</td><td>--</td><td>--</td><td>19.68</td><td>--</td><td>--</td><td>--</td><td>--</td><td>--</td><td>--</td><td>--</td><td>--</td><td>--</td><td>--</td><td>...</td></tr>\n",
              "<tr><td>1013</td><td>1011</td><td>G 100-28</td><td>LM</td><td>G 100-28 A</td><td>85.1075954089113</td><td>24.8005482870739</td><td>2016.0</td><td>97.6</td><td>2.8</td><td>2014ApJ...784..156D</td><td>107.0</td><td>8.0</td><td>-376.0</td><td>8.0</td><td>2012yCat.1322....0Z</td><td>21.0</td><td>5.0</td><td>2014AJ....147...20N</td><td>M7</td><td>2014AJ....147...20N</td><td>NIR Spec</td><td>3</td><td>13.329058</td><td>--</td><td>15.196254</td><td>11.309821</td><td>--</td><td>16.74</td><td>14.94</td><td>14.71</td><td>11.4</td><td>8.978</td><td>8.384</td><td>8.039</td><td>2014AcA....64..359T</td><td>--</td><td>Gaia DR2 3428755925216353152</td><td>Gaia EDR3 3428755925216353280</td><td>G 100-28</td><td>--</td><td>GJ 1083 A</td><td>--</td><td>--</td><td>...</td></tr>\n",
              "<tr><td>1014</td><td>1011</td><td>G 100-28</td><td>LM</td><td>G 100-28 B</td><td>85.1075954089113</td><td>24.8005482870739</td><td>2016.0</td><td>97.6</td><td>2.8</td><td>FROM:G100-28A</td><td>107.0</td><td>8.0</td><td>-376.0</td><td>8.0</td><td>FROM:G100-28</td><td>--</td><td>--</td><td>--</td><td>--</td><td>--</td><td>--</td><td>--</td><td>--</td><td>--</td><td>--</td><td>--</td><td>--</td><td>--</td><td>--</td><td>--</td><td>--</td><td>--</td><td>--</td><td>--</td><td>2014AcA....64..359T</td><td>--</td><td>--</td><td>--</td><td>G 100-28</td><td>--</td><td>GJ 1083 B</td><td>--</td><td>--</td><td>...</td></tr>\n",
              "<tr><td>1015</td><td>1012</td><td>WISE J094305.98+360723.5</td><td>BD</td><td>WISE J094305.98+360723.5</td><td>145.776141</td><td>36.122541</td><td>2015.4</td><td>97.1</td><td>2.9</td><td>2021ApJS..253....7K</td><td>669.5</td><td>1.2</td><td>-501.2</td><td>1.4</td><td>2021ApJS..253....7K</td><td>--</td><td>--</td><td>--</td><td>T9.5</td><td>2014AJ....147..113C</td><td>NIR Spec</td><td>20</td><td>--</td><td>25.07</td><td>--</td><td>--</td><td>--</td><td>--</td><td>--</td><td>--</td><td>--</td><td>--</td><td>--</td><td>--</td><td>--</td><td>--</td><td>--</td><td>--</td><td>WISE J094305.98+360723.5</td><td>--</td><td>--</td><td>--</td><td>--</td><td>No evidence for binarity in 2021ApJS..253....7K who thus consider it as single.</td></tr>\n",
              "<tr><td>1016</td><td>1013</td><td>2MASS J12373919+6526148</td><td>BD</td><td>2MASS J12373919+6526148</td><td>189.413318</td><td>65.437447</td><td>2000.0</td><td>96.07</td><td>4.78</td><td>2012ApJ...752...56F</td><td>-1002.0</td><td>8.0</td><td>-525.0</td><td>6.0</td><td>2009AJ....137....1F</td><td>--</td><td>--</td><td>--</td><td>T7</td><td>2003AJ....126.2487B</td><td>NIR Spec</td><td>20</td><td>--</td><td>25.09</td><td>--</td><td>--</td><td>--</td><td>--</td><td>--</td><td>--</td><td>--</td><td>16.053</td><td>15.739</td><td>16.058</td><td>--</td><td>--</td><td>--</td><td>--</td><td>2MASS J12373919+6526148</td><td>--</td><td>--</td><td>--</td><td>--</td><td>Could be EDR3 1680478217385666944 but seems too bright for a T7</td></tr>\n",
              "<tr><td>1017</td><td>1014</td><td>CWISEP J144606.62-231717.8</td><td>BD</td><td>CWISEP J144606.62-231717.8</td><td>221.526873</td><td>-23.288846</td><td>2017.0</td><td>95.6</td><td>13.9</td><td>2021ApJS..253....7K</td><td>-796.1</td><td>48.8</td><td>-913.0</td><td>24.3</td><td>2021ApJS..253....7K</td><td>--</td><td>--</td><td>--</td><td>&gt;Y1?</td><td>2021ApJS..253....7K</td><td>NIR Phot</td><td>20</td><td>--</td><td>25.1</td><td>--</td><td>--</td><td>--</td><td>--</td><td>--</td><td>--</td><td>--</td><td>--</td><td>--</td><td>--</td><td>--</td><td>--</td><td>--</td><td>--</td><td>CWISEP J144606.62-231717.8</td><td>--</td><td>--</td><td>--</td><td>--</td><td>...</td></tr>\n",
              "<tr><td>1018</td><td>1015</td><td>WISEA J083011.95+283716.0</td><td>BD</td><td>WISEA J083011.95+283716.0</td><td>127.549578</td><td>28.617508</td><td>2017.1</td><td>90.6</td><td>13.7</td><td>2020ApJ...895..145B</td><td>-233.3</td><td>48.6</td><td>-2040.8</td><td>29.9</td><td>2021ApJS..253....7K</td><td>--</td><td>--</td><td>--</td><td>&gt;Y1</td><td>2020ApJ...899..123M</td><td>NIR Phot</td><td>20</td><td>--</td><td>25.02</td><td>--</td><td>--</td><td>--</td><td>--</td><td>--</td><td>--</td><td>--</td><td>--</td><td>--</td><td>--</td><td>--</td><td>--</td><td>--</td><td>--</td><td>WISEA J083011.95+283716.0</td><td>--</td><td>--</td><td>--</td><td>--</td><td>...</td></tr>\n",
              "<tr><td>1019</td><td>1016</td><td>CWISEP J023842.60-133210.7</td><td>BD</td><td>CWISEP J023842.60-133210.7</td><td>39.677455</td><td>-13.536971</td><td>2016.7</td><td>85.8</td><td>21.4</td><td>2021ApJS..253....7K</td><td>-62.0</td><td>58.2</td><td>-768.5</td><td>44.6</td><td>2021ApJS..253....7K</td><td>--</td><td>--</td><td>--</td><td>&gt;Y1?</td><td>2021ApJS..253....7K</td><td>NIR Phot</td><td>20</td><td>--</td><td>25.33</td><td>--</td><td>--</td><td>--</td><td>--</td><td>--</td><td>--</td><td>--</td><td>--</td><td>--</td><td>--</td><td>--</td><td>--</td><td>--</td><td>--</td><td>--</td><td>--</td><td>--</td><td>--</td><td>--</td><td>...</td></tr>\n",
              "</table></div>"
            ],
            "text/plain": [
              "<Table length=559>\n",
              "NB_OBJ ...\n",
              "int32  ...\n",
              "------ ...\n",
              "     1 ...\n",
              "     2 ...\n",
              "     3 ...\n",
              "     4 ...\n",
              "     5 ...\n",
              "     6 ...\n",
              "     7 ...\n",
              "     8 ...\n",
              "     9 ...\n",
              "    10 ...\n",
              "   ... ...\n",
              "  1010 ...\n",
              "  1011 ...\n",
              "  1012 ...\n",
              "  1013 ...\n",
              "  1014 ...\n",
              "  1015 ...\n",
              "  1016 ...\n",
              "  1017 ...\n",
              "  1018 ...\n",
              "  1019 ..."
            ]
          },
          "execution_count": 4,
          "metadata": {},
          "output_type": "execute_result"
        }
      ],
      "source": [
        "nearbyStars"
      ]
    },
    {
      "cell_type": "code",
      "execution_count": null,
      "id": "0f2e6cad-2e15-4d15-be97-ab3eb1471c14",
      "metadata": {
        "tags": [],
        "id": "0f2e6cad-2e15-4d15-be97-ab3eb1471c14"
      },
      "outputs": [],
      "source": [
        "#nearbyStars['NB_OBJ','NB_SYS','SYSTEM_NAME','RA','DEC','PARALLAX'] #Ej. 'OBJ_CAT','OBJ_NAME',... son los nombres de las columnas del catálogo que necesitamos"
      ]
    },
    {
      "cell_type": "markdown",
      "id": "45326189-975d-4b6b-9ba8-ac2d4568e287",
      "metadata": {
        "id": "45326189-975d-4b6b-9ba8-ac2d4568e287"
      },
      "source": [
        "Podemos probar que es una genuina estructura de tabla en el interior de Python, interrogando su tipo:"
      ]
    },
    {
      "cell_type": "code",
      "execution_count": null,
      "id": "ad42bc3e-68a3-4a77-ae45-09d3cf6bdd17",
      "metadata": {
        "id": "ad42bc3e-68a3-4a77-ae45-09d3cf6bdd17",
        "outputId": "7591f0ec-bb2a-49eb-97a7-254c3a1743d5"
      },
      "outputs": [
        {
          "data": {
            "text/plain": [
              "astropy.table.table.Table"
            ]
          },
          "execution_count": 6,
          "metadata": {},
          "output_type": "execute_result"
        }
      ],
      "source": [
        "type(nearbyStars)"
      ]
    },
    {
      "cell_type": "markdown",
      "id": "43a5e74b-5b01-43ef-a3f8-47b96ba1dc9c",
      "metadata": {
        "id": "43a5e74b-5b01-43ef-a3f8-47b96ba1dc9c"
      },
      "source": [
        "Ya están los datos del catálogo dentro de Python. Ahora viene...\n",
        "## La astrofísica\n",
        "**¿Cómo convertir estos valores en parámetros útiles, con las unidades apropiadas y en los sistemas de coordenadas apropiadoss para calcular y obtener los resultados necesarios para cada objeto?**"
      ]
    },
    {
      "cell_type": "markdown",
      "id": "3a109180-93bb-4254-9f37-93b99888b157",
      "metadata": {
        "tags": [],
        "id": "3a109180-93bb-4254-9f37-93b99888b157"
      },
      "source": [
        "Nótese que las columnas RA y DEC están expresadas en grados decimales, pero la columna PARALAX está expresada en centenas, ello nos dice que no está dada en **arcsec**, sino en **mas** (miliarcosegundos). Se impone la necesidad de convertir unidades...\n",
        "Para ello, astroPy cuenta con un módulo apropiado, con las unidades necesarias para hacer la conversión:"
      ]
    },
    {
      "cell_type": "code",
      "execution_count": null,
      "id": "298240a7-1c69-46db-b33f-4effd55a6472",
      "metadata": {
        "tags": [],
        "id": "298240a7-1c69-46db-b33f-4effd55a6472"
      },
      "outputs": [],
      "source": [
        "import astropy.units as u"
      ]
    },
    {
      "cell_type": "markdown",
      "id": "32e764fb-4970-4a05-8feb-586565f734fe",
      "metadata": {
        "tags": [],
        "id": "32e764fb-4970-4a05-8feb-586565f734fe"
      },
      "source": [
        "Sabemos que\n",
        "\n",
        "$$d (parsec) = 1 / p (arc sec)$$\n",
        "\n",
        "pero no hay ni que programar esta división: `astroPy` incluso resuelve el problema de hallar el inverso del ángulo de paralaje para obtener la distancia en la unidad que necesitemos (pc, kpc, UA o lyr), sin tener siquiera que dividir, y esto es porque conoce la equivalencia entre las unidades de longitud y los ángulos de paralaje. Una solución cómoda, pero un tanto rara, por lo que vale la pena estudiarse la documentación a ver que otras sorpresas como esta nos aguardan en `astroPy`:"
      ]
    },
    {
      "cell_type": "code",
      "execution_count": null,
      "id": "b7d7a5e5-c0ea-4478-9116-8bc99551217b",
      "metadata": {
        "tags": [],
        "id": "b7d7a5e5-c0ea-4478-9116-8bc99551217b",
        "outputId": "471dba7f-8470-4f97-cbf5-ef8005fe97a6"
      },
      "outputs": [
        {
          "data": {
            "text/latex": [
              "$1.3019705 \\; \\mathrm{pc}$"
            ],
            "text/plain": [
              "<Quantity 1.30197053 pc>"
            ]
          },
          "execution_count": 8,
          "metadata": {},
          "output_type": "execute_result"
        }
      ],
      "source": [
        "ProximaCen_parallax= nearbyStars[0]['PARALLAX']\n",
        "\n",
        "(ProximaCen_parallax * u.mas).to(u.pc, equivalencies=u.parallax())"
      ]
    },
    {
      "cell_type": "markdown",
      "id": "ed7e7c1a-2714-48c4-ba9e-55e9af0587cc",
      "metadata": {
        "tags": [],
        "id": "ed7e7c1a-2714-48c4-ba9e-55e9af0587cc"
      },
      "source": [
        "note que el valor se multiplica por la unidad en el formato que viene en la tabla y en la conversión `.to()` se expresa en la unidad del resultado esperado como `u.pc`, donde también se agrega la indicación de una equivalencia que astroPy ya conoce, con una función `u.parallax()`.\n",
        "\n",
        "Y es muy sencillo expresar el resultado en otra unidad:"
      ]
    },
    {
      "cell_type": "code",
      "execution_count": null,
      "id": "c1d4147c-2002-4de0-bffa-f54ccd1d919a",
      "metadata": {
        "tags": [],
        "id": "c1d4147c-2002-4de0-bffa-f54ccd1d919a",
        "outputId": "711f8f14-9c5d-4343-9091-91937c23e80c"
      },
      "outputs": [
        {
          "data": {
            "text/latex": [
              "$4.2464599 \\; \\mathrm{lyr}$"
            ],
            "text/plain": [
              "<Quantity 4.24645992 lyr>"
            ]
          },
          "execution_count": 9,
          "metadata": {},
          "output_type": "execute_result"
        }
      ],
      "source": [
        "(ProximaCen_parallax * u.mas).to(u.lyr, equivalencies=u.parallax())"
      ]
    },
    {
      "cell_type": "markdown",
      "id": "10d7a062-9e25-487c-b988-c827172b7b78",
      "metadata": {
        "id": "10d7a062-9e25-487c-b988-c827172b7b78"
      },
      "source": [
        "Para obtener las coordendas galácticas, utilizamos una nueva biblioteca:"
      ]
    },
    {
      "cell_type": "code",
      "execution_count": null,
      "id": "d4fefcc2-9c87-45fe-b146-3efa903c277d",
      "metadata": {
        "id": "d4fefcc2-9c87-45fe-b146-3efa903c277d"
      },
      "outputs": [],
      "source": [
        "#import astropy.coordinates as coord\n",
        "from astropy.coordinates import SkyCoord"
      ]
    },
    {
      "cell_type": "code",
      "execution_count": null,
      "id": "7ae79f60-6ab2-4de6-8831-2b5658514a0a",
      "metadata": {
        "id": "7ae79f60-6ab2-4de6-8831-2b5658514a0a"
      },
      "outputs": [],
      "source": [
        "ProximaCen_coord = SkyCoord(\n",
        "    ra=nearbyStars[0]['RA']*u.degree,\n",
        "    dec=nearbyStars[0]['DEC']*u.degree,\n",
        "    distance=(nearbyStars[0]['PARALLAX'] * u.mas).to(u.pc, equivalencies=u.parallax()),\n",
        "    frame= 'icrs'\n",
        "    )"
      ]
    },
    {
      "cell_type": "code",
      "execution_count": null,
      "id": "c49a2c4f-ef6b-41bd-813d-43b7271d8ebe",
      "metadata": {
        "id": "c49a2c4f-ef6b-41bd-813d-43b7271d8ebe",
        "outputId": "f8ac1b28-fc57-4795-da94-0d112672af4b"
      },
      "outputs": [
        {
          "data": {
            "text/latex": [
              "$217^\\circ23{}^\\prime32.35729923{}^{\\prime\\prime}$"
            ],
            "text/plain": [
              "<Longitude 217.39232147 deg>"
            ]
          },
          "execution_count": 12,
          "metadata": {},
          "output_type": "execute_result"
        }
      ],
      "source": [
        "ProximaCen_coord.ra"
      ]
    },
    {
      "cell_type": "code",
      "execution_count": null,
      "id": "f62967d3-4849-4500-a5b4-04b519790a3a",
      "metadata": {
        "id": "f62967d3-4849-4500-a5b4-04b519790a3a",
        "outputId": "9b18f20e-9b59-4096-fbe0-8c3554af2525"
      },
      "outputs": [
        {
          "data": {
            "text/plain": [
              "<SkyCoord (Galactic): (l, b, distance) in (deg, deg, pc)\n",
              "    (313.92550175, -1.91775715, 1.30197053)>"
            ]
          },
          "execution_count": 13,
          "metadata": {},
          "output_type": "execute_result"
        }
      ],
      "source": [
        "ProximaCen_coord.galactic"
      ]
    },
    {
      "cell_type": "markdown",
      "id": "68389bcb-2a0f-4cc4-b09a-2ad49ef9e706",
      "metadata": {
        "id": "68389bcb-2a0f-4cc4-b09a-2ad49ef9e706"
      },
      "source": [
        "Preparamos un factor de escala para la maqueta, sustituyendo los parsec por una medida apropiada en cm"
      ]
    },
    {
      "cell_type": "code",
      "execution_count": null,
      "id": "f3a59f14-8c96-4028-bf41-1f29e582b510",
      "metadata": {
        "id": "f3a59f14-8c96-4028-bf41-1f29e582b510"
      },
      "outputs": [],
      "source": [
        "scale_factor= 100 * u.cm/u.pc #100 cm:1 pc"
      ]
    },
    {
      "cell_type": "code",
      "execution_count": null,
      "id": "2e5a66f4-84a0-40e6-b718-78fe20995356",
      "metadata": {
        "id": "2e5a66f4-84a0-40e6-b718-78fe20995356",
        "outputId": "12e092ec-63d9-4db0-b88a-4aa7c0f5d9c1"
      },
      "outputs": [
        {
          "data": {
            "text/plain": [
              "<CartesianRepresentation (x, y, z) in cm\n",
              "    (90.27003193, -93.72091668, -4.3570349)>"
            ]
          },
          "execution_count": 15,
          "metadata": {},
          "output_type": "execute_result"
        }
      ],
      "source": [
        "ProximaCen_coord.galactic.cartesian * scale_factor"
      ]
    },
    {
      "cell_type": "markdown",
      "id": "650c5a9e-283a-4448-bfda-b8389edb6f94",
      "metadata": {
        "id": "650c5a9e-283a-4448-bfda-b8389edb6f94"
      },
      "source": [
        "Ahora vamos a aplicar esta lógica a la tabla completa, para todos aquellos objetos estelares"
      ]
    },
    {
      "cell_type": "code",
      "execution_count": null,
      "id": "b047a644-bee9-46bb-830a-77e05805ef44",
      "metadata": {
        "id": "b047a644-bee9-46bb-830a-77e05805ef44"
      },
      "outputs": [],
      "source": [
        "from astropy.table import QTable"
      ]
    },
    {
      "cell_type": "code",
      "execution_count": null,
      "id": "69e75ad8-2c25-48c6-baec-6f7485b5fd16",
      "metadata": {
        "id": "69e75ad8-2c25-48c6-baec-6f7485b5fd16"
      },
      "outputs": [],
      "source": [
        "nearbyObjects10pc= QTable.read('.\\catalog\\The10pcSample.csv')"
      ]
    },
    {
      "cell_type": "code",
      "execution_count": null,
      "id": "2ffaa99a-dc92-4da4-babd-0a0c57bb5697",
      "metadata": {
        "id": "2ffaa99a-dc92-4da4-babd-0a0c57bb5697",
        "outputId": "9e5a89ba-b7de-4e29-b549-bb7624db2de5"
      },
      "outputs": [
        {
          "name": "stdout",
          "output_type": "stream",
          "text": [
            "El catálogo tiene 559 objetos\n"
          ]
        }
      ],
      "source": [
        "print ('El catálogo tiene', len(nearbyObjects10pc), 'objetos')"
      ]
    },
    {
      "cell_type": "raw",
      "id": "8fee9a68-30c8-4224-837d-95f4d9614e07",
      "metadata": {
        "id": "8fee9a68-30c8-4224-837d-95f4d9614e07"
      },
      "source": [
        "groupedNearbyStars10pc= nearbyObjects10pc.group_by('OBJ_CAT')"
      ]
    },
    {
      "cell_type": "raw",
      "id": "b27e1851-8247-43c3-8eb6-db1f433face0",
      "metadata": {
        "id": "b27e1851-8247-43c3-8eb6-db1f433face0"
      },
      "source": [
        "planets = groupedNearbyStars10pc.groups.keys['OBJ_CAT'] == 'Planet'\n",
        "#print(groupedNearbyStars10pc.groups[planets][0])\n",
        "groupedNearbyStars10pc.groups[planets]"
      ]
    },
    {
      "cell_type": "code",
      "execution_count": null,
      "id": "1c0d626f-d92a-4a00-8223-7959f1fed7bb",
      "metadata": {
        "id": "1c0d626f-d92a-4a00-8223-7959f1fed7bb"
      },
      "outputs": [],
      "source": [
        "#star= QTable([obj, sys, sys_name, obj_name, coord], dtype= (int16, int8, u26, u28))\n",
        "star= QTable()\n",
        "stars= QTable()"
      ]
    },
    {
      "cell_type": "code",
      "execution_count": null,
      "id": "f6749588-358e-4f07-90b4-487c57461d4f",
      "metadata": {
        "id": "f6749588-358e-4f07-90b4-487c57461d4f"
      },
      "outputs": [],
      "source": [
        "scale_factor= 10 * u.cm/u.pc #10 cm:1 pc"
      ]
    },
    {
      "cell_type": "code",
      "execution_count": null,
      "id": "6ba01435-fc31-4402-bd78-e7d79c39b8ce",
      "metadata": {
        "id": "6ba01435-fc31-4402-bd78-e7d79c39b8ce",
        "outputId": "2e2809ed-b8e3-4ee8-cc95-9cf93f92fcea"
      },
      "outputs": [
        {
          "ename": "ValueError",
          "evalue": "Mismatch between number of vals and columns",
          "output_type": "error",
          "traceback": [
            "\u001b[1;31m---------------------------------------------------------------------------\u001b[0m",
            "\u001b[1;31mValueError\u001b[0m                                Traceback (most recent call last)",
            "Cell \u001b[1;32mIn [22], line 15\u001b[0m\n\u001b[0;32m      8\u001b[0m coord \u001b[38;5;241m=\u001b[39m SkyCoord(\n\u001b[0;32m      9\u001b[0m     ra\u001b[38;5;241m=\u001b[39m[catalogObject[\u001b[38;5;124m'\u001b[39m\u001b[38;5;124mRA\u001b[39m\u001b[38;5;124m'\u001b[39m]]\u001b[38;5;241m*\u001b[39mu\u001b[38;5;241m.\u001b[39mdegree,\n\u001b[0;32m     10\u001b[0m     dec\u001b[38;5;241m=\u001b[39m[catalogObject[\u001b[38;5;124m'\u001b[39m\u001b[38;5;124mDEC\u001b[39m\u001b[38;5;124m'\u001b[39m]]\u001b[38;5;241m*\u001b[39mu\u001b[38;5;241m.\u001b[39mdegree,\n\u001b[0;32m     11\u001b[0m     distance\u001b[38;5;241m=\u001b[39m([catalogObject[\u001b[38;5;124m'\u001b[39m\u001b[38;5;124mPARALLAX\u001b[39m\u001b[38;5;124m'\u001b[39m]] \u001b[38;5;241m*\u001b[39m u\u001b[38;5;241m.\u001b[39mmas)\u001b[38;5;241m.\u001b[39mto(u\u001b[38;5;241m.\u001b[39mpc, equivalencies\u001b[38;5;241m=\u001b[39mu\u001b[38;5;241m.\u001b[39mparallax()),\n\u001b[0;32m     12\u001b[0m     frame\u001b[38;5;241m=\u001b[39m \u001b[38;5;124m'\u001b[39m\u001b[38;5;124micrs\u001b[39m\u001b[38;5;124m'\u001b[39m\n\u001b[0;32m     13\u001b[0m     )\u001b[38;5;241m.\u001b[39mgalactic\u001b[38;5;241m.\u001b[39mcartesian \u001b[38;5;241m*\u001b[39m scale_factor\n\u001b[0;32m     14\u001b[0m star[\u001b[38;5;124m'\u001b[39m\u001b[38;5;124mcoord\u001b[39m\u001b[38;5;124m'\u001b[39m]\u001b[38;5;241m=\u001b[39m coord \u001b[38;5;66;03m#.to_table\u001b[39;00m\n\u001b[1;32m---> 15\u001b[0m \u001b[43mstars\u001b[49m\u001b[38;5;241;43m.\u001b[39;49m\u001b[43madd_row\u001b[49m\u001b[43m(\u001b[49m\u001b[43mstar\u001b[49m\u001b[43m)\u001b[49m\n",
            "File \u001b[1;32mD:\\Prog\\Miniconda3\\lib\\site-packages\\astropy\\table\\table.py:2945\u001b[0m, in \u001b[0;36mTable.add_row\u001b[1;34m(self, vals, mask)\u001b[0m\n\u001b[0;32m   2894\u001b[0m \u001b[38;5;28;01mdef\u001b[39;00m \u001b[38;5;21madd_row\u001b[39m(\u001b[38;5;28mself\u001b[39m, vals\u001b[38;5;241m=\u001b[39m\u001b[38;5;28;01mNone\u001b[39;00m, mask\u001b[38;5;241m=\u001b[39m\u001b[38;5;28;01mNone\u001b[39;00m):\n\u001b[0;32m   2895\u001b[0m     \u001b[38;5;124;03m\"\"\"Add a new row to the end of the table.\u001b[39;00m\n\u001b[0;32m   2896\u001b[0m \n\u001b[0;32m   2897\u001b[0m \u001b[38;5;124;03m    The ``vals`` argument can be:\u001b[39;00m\n\u001b[1;32m   (...)\u001b[0m\n\u001b[0;32m   2943\u001b[0m \u001b[38;5;124;03m         3   6   9\u001b[39;00m\n\u001b[0;32m   2944\u001b[0m \u001b[38;5;124;03m    \"\"\"\u001b[39;00m\n\u001b[1;32m-> 2945\u001b[0m     \u001b[38;5;28;43mself\u001b[39;49m\u001b[38;5;241;43m.\u001b[39;49m\u001b[43minsert_row\u001b[49m\u001b[43m(\u001b[49m\u001b[38;5;28;43mlen\u001b[39;49m\u001b[43m(\u001b[49m\u001b[38;5;28;43mself\u001b[39;49m\u001b[43m)\u001b[49m\u001b[43m,\u001b[49m\u001b[43m \u001b[49m\u001b[43mvals\u001b[49m\u001b[43m,\u001b[49m\u001b[43m \u001b[49m\u001b[43mmask\u001b[49m\u001b[43m)\u001b[49m\n",
            "File \u001b[1;32mD:\\Prog\\Miniconda3\\lib\\site-packages\\astropy\\table\\table.py:3024\u001b[0m, in \u001b[0;36mTable.insert_row\u001b[1;34m(self, index, vals, mask)\u001b[0m\n\u001b[0;32m   3021\u001b[0m     \u001b[38;5;28;01mraise\u001b[39;00m \u001b[38;5;167;01mTypeError\u001b[39;00m(\u001b[38;5;124m\"\u001b[39m\u001b[38;5;124mMismatch between type of vals and mask\u001b[39m\u001b[38;5;124m\"\u001b[39m)\n\u001b[0;32m   3023\u001b[0m \u001b[38;5;28;01mif\u001b[39;00m \u001b[38;5;28mlen\u001b[39m(\u001b[38;5;28mself\u001b[39m\u001b[38;5;241m.\u001b[39mcolumns) \u001b[38;5;241m!=\u001b[39m \u001b[38;5;28mlen\u001b[39m(vals):\n\u001b[1;32m-> 3024\u001b[0m     \u001b[38;5;28;01mraise\u001b[39;00m \u001b[38;5;167;01mValueError\u001b[39;00m(\u001b[38;5;124m'\u001b[39m\u001b[38;5;124mMismatch between number of vals and columns\u001b[39m\u001b[38;5;124m'\u001b[39m)\n\u001b[0;32m   3026\u001b[0m \u001b[38;5;28;01mif\u001b[39;00m mask \u001b[38;5;129;01mis\u001b[39;00m \u001b[38;5;129;01mnot\u001b[39;00m \u001b[38;5;28;01mNone\u001b[39;00m:\n\u001b[0;32m   3027\u001b[0m     \u001b[38;5;28;01mif\u001b[39;00m \u001b[38;5;28mlen\u001b[39m(\u001b[38;5;28mself\u001b[39m\u001b[38;5;241m.\u001b[39mcolumns) \u001b[38;5;241m!=\u001b[39m \u001b[38;5;28mlen\u001b[39m(mask):\n",
            "\u001b[1;31mValueError\u001b[0m: Mismatch between number of vals and columns"
          ]
        }
      ],
      "source": [
        "for catalogObject in nearbyObjects10pc:\n",
        "    if not catalogObject['OBJ_CAT'] == 'Planet':\n",
        "        #print(catalogObject['NB_OBJ', 'NB_SYS', 'OBJ_NAME'])\n",
        "        star['obj']= [catalogObject['NB_OBJ']]\n",
        "        star['system']= [catalogObject['NB_SYS']]\n",
        "        star['system_name']= [catalogObject['SYSTEM_NAME']]\n",
        "        star['obj_name']= [catalogObject['OBJ_NAME']]\n",
        "        coord = SkyCoord(\n",
        "            ra=[catalogObject['RA']]*u.degree,\n",
        "            dec=[catalogObject['DEC']]*u.degree,\n",
        "            distance=([catalogObject['PARALLAX']] * u.mas).to(u.pc, equivalencies=u.parallax()),\n",
        "            frame= 'icrs'\n",
        "            ).galactic.cartesian * scale_factor\n",
        "        star['coord']= coord #.to_table\n",
        "        stars.add_row(star)"
      ]
    },
    {
      "cell_type": "code",
      "execution_count": null,
      "id": "540e3063-2339-4aeb-93da-f33d8eb60d61",
      "metadata": {
        "id": "540e3063-2339-4aeb-93da-f33d8eb60d61"
      },
      "outputs": [],
      "source": [
        "stars= QTable"
      ]
    },
    {
      "cell_type": "code",
      "execution_count": null,
      "id": "38bc80a6-8986-4faf-81b4-e41d72379dc7",
      "metadata": {
        "id": "38bc80a6-8986-4faf-81b4-e41d72379dc7",
        "outputId": "0d540ef0-9d20-4950-de37-942c9691a71a"
      },
      "outputs": [
        {
          "name": "stdout",
          "output_type": "stream",
          "text": [
            "{'obj': [1], 'system': [1], 'system_name': ['alf Cen'], 'obj_name': ['Proxima Cen'], 'coord': <CartesianRepresentation (x, y, z) in cm\n",
            "    [(9.02700319, -9.37209167, -0.43570349)]>}\n",
            "{'obj': [3], 'system': [1], 'system_name': ['alf Cen'], 'obj_name': ['alf Cen A'], 'coord': <CartesianRepresentation (x, y, z) in cm\n",
            "    [(9.6373992, -9.39352911, -0.15964954)]>}\n",
            "{'obj': [4], 'system': [1], 'system_name': ['alf Cen'], 'obj_name': ['alf Cen B'], 'coord': <CartesianRepresentation (x, y, z) in cm\n",
            "    [(9.63672493, -9.39421262, -0.16013271)]>}\n",
            "{'obj': [5], 'system': [2], 'system_name': [\"Barnard's Star\"], 'obj_name': [\"Barnard's Star\"], 'coord': <CartesianRepresentation (x, y, z) in cm\n",
            "    [(15.19189606, 9.14605711, 4.44970589)]>}\n",
            "{'obj': [6], 'system': [3], 'system_name': ['Luhman 16'], 'obj_name': ['Luhman 16 A'], 'coord': <CartesianRepresentation (x, y, z) in cm\n",
            "    [(5.19760641, -19.16059613, 1.83761581)]>}\n",
            "{'obj': [7], 'system': [3], 'system_name': ['Luhman 16'], 'obj_name': ['Luhman 16 B'], 'coord': <CartesianRepresentation (x, y, z) in cm\n",
            "    [(5.19760111, -19.16060664, 1.83752116)]>}\n",
            "{'obj': [8], 'system': [4], 'system_name': ['WISEA J085510.74-071442.5'], 'obj_name': ['WISEA J085510.74-071442.5'], 'coord': <CartesianRepresentation (x, y, z) in cm\n",
            "    [(-12.00239436, -17.12839169, 9.02471831)]>}\n",
            "{'obj': [9], 'system': [5], 'system_name': ['Wolf 359'], 'obj_name': ['Wolf 359'], 'coord': <CartesianRepresentation (x, y, z) in cm\n",
            "    [(-5.87839619, -12.07986294, 19.9913842)]>}\n",
            "{'obj': [10], 'system': [6], 'system_name': ['HD 95735'], 'obj_name': ['HD 95735'], 'coord': <CartesianRepresentation (x, y, z) in cm\n",
            "    [(-10.54225774, -0.95376599, 23.15661582)]>}\n",
            "{'obj': [12], 'system': [7], 'system_name': ['alf CMa'], 'obj_name': ['alf CMa A'], 'coord': <CartesianRepresentation (x, y, z) in cm\n",
            "    [(-17.69191786, -19.12580614, -4.07538835)]>}\n",
            "{'obj': [13], 'system': [7], 'system_name': ['alf CMa'], 'obj_name': ['alf CMa B'], 'coord': <CartesianRepresentation (x, y, z) in cm\n",
            "    [(-17.91338981, -19.36805322, -4.12793325)]>}\n",
            "{'obj': [14], 'system': [8], 'system_name': ['G 272-61'], 'obj_name': ['G 272-61 A'], 'coord': <CartesianRepresentation (x, y, z) in cm\n",
            "    [(-6.70266099, 0.52508666, -26.3510481)]>}\n",
            "{'obj': [15], 'system': [8], 'system_name': ['G 272-61'], 'obj_name': ['G 272-61 B'], 'coord': <CartesianRepresentation (x, y, z) in cm\n",
            "    [(-6.59292331, 0.51666877, -25.91873694)]>}\n",
            "{'obj': [16], 'system': [9], 'system_name': ['V1216 Sgr'], 'obj_name': ['Ross 154'], 'coord': <CartesianRepresentation (x, y, z) in cm\n",
            "    [(28.71274752, 5.74135038, -5.31467415)]>}\n",
            "{'obj': [17], 'system': [10], 'system_name': ['HH And'], 'obj_name': ['Ross 248'], 'coord': <CartesianRepresentation (x, y, z) in cm\n",
            "    [(-10.33237014, 28.40438787, -9.21043038)]>}\n",
            "{'obj': [18], 'system': [11], 'system_name': ['eps Eri'], 'obj_name': ['eps Eri'], 'coord': <CartesianRepresentation (x, y, z) in cm\n",
            "    [(-20.7044038, -5.8748549, -23.94852083)]>}\n",
            "{'obj': [20], 'system': [12], 'system_name': ['HD 217987'], 'obj_name': ['GJ 887'], 'coord': <CartesianRepresentation (x, y, z) in cm\n",
            "    [(13.32707666, 1.18876166, -30.03458934)]>}\n",
            "{'obj': [23], 'system': [13], 'system_name': ['FI Vir'], 'obj_name': ['Ross 128'], 'coord': <CartesianRepresentation (x, y, z) in cm\n",
            "    [(0.04683693, -17.10057857, 29.09572537)]>}\n",
            "{'obj': [25], 'system': [14], 'system_name': ['EZ Aqr'], 'obj_name': ['GJ 866 A'], 'coord': <CartesianRepresentation (x, y, z) in cm\n",
            "    [(12.63411741, 13.59357903, -28.55999955)]>}\n",
            "{'obj': [26], 'system': [14], 'system_name': ['EZ Aqr'], 'obj_name': ['GJ 866 B'], 'coord': <CartesianRepresentation (x, y, z) in cm\n",
            "    [(12.63411741, 13.59357903, -28.55999955)]>}\n",
            "{'obj': [27], 'system': [14], 'system_name': ['EZ Aqr'], 'obj_name': ['GJ 866 C'], 'coord': <CartesianRepresentation (x, y, z) in cm\n",
            "    [(12.63411741, 13.59357903, -28.55999955)]>}\n",
            "{'obj': [28], 'system': [15], 'system_name': ['61 Cyg'], 'obj_name': ['61 Cyg A'], 'coord': <CartesianRepresentation (x, y, z) in cm\n",
            "    [(4.6348873, 34.47511755, -3.54696339)]>}\n",
            "{'obj': [29], 'system': [15], 'system_name': ['61 Cyg'], 'obj_name': ['61 Cyg B'], 'coord': <CartesianRepresentation (x, y, z) in cm\n",
            "    [(4.63651225, 34.47310863, -3.55182375)]>}\n",
            "{'obj': [30], 'system': [16], 'system_name': ['alf CMi'], 'obj_name': ['alf CMi A'], 'coord': <CartesianRepresentation (x, y, z) in cm\n",
            "    [(-28.48420862, -18.99821564, 7.91681555)]>}\n",
            "{'obj': [31], 'system': [16], 'system_name': ['alf CMi'], 'obj_name': ['alf CMi B'], 'coord': <CartesianRepresentation (x, y, z) in cm\n",
            "    [(-28.48424115, -18.99848594, 7.9160498)]>}\n",
            "{'obj': [32], 'system': [17], 'system_name': ['BD+59 1915'], 'obj_name': ['HD 173739'], 'coord': <CartesianRepresentation (x, y, z) in cm\n",
            "    [(0.39501845, 32.12294374, 14.46343517)]>}\n",
            "{'obj': [33], 'system': [17], 'system_name': ['BD+59 1915'], 'obj_name': ['HD 173740'], 'coord': <CartesianRepresentation (x, y, z) in cm\n",
            "    [(0.39694935, 32.12336693, 14.46315298)]>}\n",
            "{'obj': [34], 'system': [18], 'system_name': ['IRAS 00156+4344'], 'obj_name': ['GJ 15 A'], 'coord': <CartesianRepresentation (x, y, z) in cm\n",
            "    [(-15.17928265, 30.19298458, -11.27243832)]>}\n",
            "{'obj': [37], 'system': [18], 'system_name': ['IRAS 00156+4344'], 'obj_name': ['GJ 15 B'], 'coord': <CartesianRepresentation (x, y, z) in cm\n",
            "    [(-15.18525453, 30.19221749, -11.27129917)]>}\n",
            "{'obj': [38], 'system': [19], 'system_name': ['DX Cnc'], 'obj_name': ['G 51-15'], 'coord': <CartesianRepresentation (x, y, z) in cm\n",
            "    [(-28.90707364, -8.84661299, 19.19616353)]>}\n",
            "{'obj': [39], 'system': [20], 'system_name': ['eps Ind'], 'obj_name': ['eps Ind A'], 'coord': <CartesianRepresentation (x, y, z) in cm\n",
            "    [(22.24568276, -9.8274614, -27.06241718)]>}\n",
            "{'obj': [41], 'system': [20], 'system_name': ['eps Ind'], 'obj_name': ['eps Ind B'], 'coord': <CartesianRepresentation (x, y, z) in cm\n",
            "    [(22.53282137, -9.98806118, -27.52436682)]>}\n",
            "{'obj': [42], 'system': [20], 'system_name': ['eps Ind'], 'obj_name': ['eps Ind C'], 'coord': <CartesianRepresentation (x, y, z) in cm\n",
            "    [(22.53282137, -9.98806118, -27.52436682)]>}\n",
            "{'obj': [43], 'system': [21], 'system_name': ['tau Cet'], 'obj_name': ['tau Cet'], 'coord': <CartesianRepresentation (x, y, z) in cm\n",
            "    [(-10.33188381, 1.25536181, -35.00730662)]>}\n",
            "{'obj': [44], 'system': [22], 'system_name': ['L 372-58'], 'obj_name': ['GJ 1061'], 'coord': <CartesianRepresentation (x, y, z) in cm\n",
            "    [(-6.89611972, -21.06276147, -29.30602595)]>}\n",
            "{'obj': [48], 'system': [23], 'system_name': ['YZ Cet'], 'obj_name': ['YZ Cet'], 'coord': <CartesianRepresentation (x, y, z) in cm\n",
            "    [(-6.25923748, 3.65407196, -36.45327138)]>}\n",
            "{'obj': [52], 'system': [24], 'system_name': [\"Luyten's Star\"], 'obj_name': ['GJ 273'], 'coord': <CartesianRepresentation (x, y, z) in cm\n",
            "    [(-31.45846789, -19.93383909, 6.81403547)]>}\n",
            "{'obj': [55], 'system': [25], 'system_name': [\"Teegarden's Star\"], 'obj_name': [\"Teegarden's Star\"], 'coord': <CartesianRepresentation (x, y, z) in cm\n",
            "    [(-28.79583619, 10.31551035, -23.07587925)]>}\n",
            "{'obj': [58], 'system': [26], 'system_name': [\"Kapteyn's Star\"], 'obj_name': [\"Kapteyn's Star\"], 'coord': <CartesianRepresentation (x, y, z) in cm\n",
            "    [(-10.59283173, -30.02228769, -23.10922578)]>}\n",
            "{'obj': [59], 'system': [27], 'system_name': ['AX Mic'], 'obj_name': ['AX Mic'], 'coord': <CartesianRepresentation (x, y, z) in cm\n",
            "    [(28.37257003, 1.93249529, -27.69588011)]>}\n",
            "{'obj': [60], 'system': [28], 'system_name': ['HD 239960'], 'obj_name': ['HD 239960 A'], 'coord': <CartesianRepresentation (x, y, z) in cm\n",
            "    [(-10.16400291, 38.78783555, -0.00205232)]>}\n",
            "{'obj': [61], 'system': [28], 'system_name': ['HD 239960'], 'obj_name': ['HD 239960 B'], 'coord': <CartesianRepresentation (x, y, z) in cm\n",
            "    [(-10.14045547, 38.69878815, -0.00186523)]>}\n",
            "{'obj': [62], 'system': [29], 'system_name': ['SCR J1845-6357'], 'obj_name': ['SCR J1845-6357 A'], 'coord': <CartesianRepresentation (x, y, z) in cm\n",
            "    [(32.28331874, -17.51029203, -15.98348409)]>}\n",
            "{'obj': [63], 'system': [29], 'system_name': ['SCR J1845-6357'], 'obj_name': ['SCR J1845-6357 B'], 'coord': <CartesianRepresentation (x, y, z) in cm\n",
            "    [(32.2840219, -17.51317016, -15.97890985)]>}\n",
            "{'obj': [64], 'system': [30], 'system_name': ['DENIS J104814.6-395606'], 'obj_name': ['DENIS J104814.6-395606'], 'coord': <CartesianRepresentation (x, y, z) in cm\n",
            "    [(5.8368281, -38.22769687, 11.86673971)]>}\n",
            "{'obj': [65], 'system': [31], 'system_name': ['Ross 614'], 'obj_name': ['Ross 614 A'], 'coord': <CartesianRepresentation (x, y, z) in cm\n",
            "    [(-34.34307046, -22.24573705, -4.43450932)]>}\n",
            "{'obj': [66], 'system': [31], 'system_name': ['Ross 614'], 'obj_name': ['Ross 614 B'], 'coord': <CartesianRepresentation (x, y, z) in cm\n",
            "    [(-34.34307046, -22.24573705, -4.43450932)]>}\n",
            "{'obj': [67], 'system': [32], 'system_name': ['UGPS J072227.51-054031.2'], 'obj_name': ['UGPS J072227.51-054031.2'], 'coord': <CartesianRepresentation (x, y, z) in cm\n",
            "    [(-30.74259736, -27.23599784, 3.06480415)]>}\n",
            "{'obj': [68], 'system': [33], 'system_name': ['V2306 Oph'], 'obj_name': ['Wolf 1061'], 'coord': <CartesianRepresentation (x, y, z) in cm\n",
            "    [(39.38422698, 2.303208, 17.29916678)]>}\n",
            "{'obj': [72], 'system': [34], 'system_name': ['Wolf 28'], 'obj_name': ['Wolf 28'], 'coord': <CartesianRepresentation (x, y, z) in cm\n",
            "    [(-12.24947211, 19.6877058, -36.38379543)]>}\n",
            "{'obj': [73], 'system': [35], 'system_name': ['Wolf 424'], 'obj_name': ['Wolf 424 A'], 'coord': <CartesianRepresentation (x, y, z) in cm\n",
            "    [(4.43479757, -13.07551898, 41.0057317)]>}\n",
            "{'obj': [74], 'system': [35], 'system_name': ['Wolf 424'], 'obj_name': ['Wolf 424 B'], 'coord': <CartesianRepresentation (x, y, z) in cm\n",
            "    [(4.58665509, -13.52268247, 42.40772429)]>}\n",
            "{'obj': [75], 'system': [36], 'system_name': ['HD 225213'], 'obj_name': ['HD 225213'], 'coord': <CartesianRepresentation (x, y, z) in cm\n",
            "    [(10.13900996, -3.01251169, -42.15317771)]>}\n",
            "{'obj': [76], 'system': [37], 'system_name': ['TZ Ari'], 'obj_name': ['GJ 9066'], 'coord': <CartesianRepresentation (x, y, z) in cm\n",
            "    [(-25.99894832, 16.4551251, -32.41981154)]>}\n",
            "{'obj': [79], 'system': [38], 'system_name': ['BD+68 946'], 'obj_name': ['GJ 687'], 'coord': <CartesianRepresentation (x, y, z) in cm\n",
            "    [(-5.76915512, 38.1651721, 24.08747683)]>}\n",
            "{'obj': [81], 'system': [39], 'system_name': ['CD-46 11540'], 'obj_name': ['GJ 674'], 'coord': <CartesianRepresentation (x, y, z) in cm\n",
            "    [(43.23422922, -13.21636519, -5.3763642)]>}\n",
            "{'obj': [83], 'system': [40], 'system_name': ['WISE J163940.83-684738.6'], 'obj_name': ['WISE J163940.83-684738.6'], 'coord': <CartesianRepresentation (x, y, z) in cm\n",
            "    [(34.3614093, -27.6263031, -11.38992181)]>}\n",
            "{'obj': [84], 'system': [41], 'system_name': ['LP 731-58'], 'obj_name': ['LP 731-58'], 'coord': <CartesianRepresentation (x, y, z) in cm\n",
            "    [(-5.35740139, -33.83858239, 30.08325962)]>}\n",
            "{'obj': [85], 'system': [42], 'system_name': ['LAWD 37'], 'obj_name': ['LAWD 37'], 'coord': <CartesianRepresentation (x, y, z) in cm\n",
            "    [(20.32115941, -41.61160368, -2.30889408)]>}\n",
            "{'obj': [86], 'system': [43], 'system_name': ['GJ 1245'], 'obj_name': ['GJ 1245 A'], 'coord': <CartesianRepresentation (x, y, z) in cm\n",
            "    [(8.96739451, 45.52817657, 6.9405493)]>}\n",
            "{'obj': [87], 'system': [43], 'system_name': ['GJ 1245'], 'obj_name': ['GJ 1245 C'], 'coord': <CartesianRepresentation (x, y, z) in cm\n",
            "    [(8.96739451, 45.52817657, 6.9405493)]>}\n",
            "{'obj': [88], 'system': [43], 'system_name': ['GJ 1245'], 'obj_name': ['GJ 1245 B'], 'coord': <CartesianRepresentation (x, y, z) in cm\n",
            "    [(8.90615756, 45.22262312, 6.89307185)]>}\n",
            "{'obj': [89], 'system': [44], 'system_name': ['WISEP J174124.25+255319.5'], 'obj_name': ['WISEP J174124.25+255319.5'], 'coord': <CartesianRepresentation (x, y, z) in cm\n",
            "    [(26.87284397, 32.15317277, 20.5307373)]>}\n",
            "{'obj': [90], 'system': [45], 'system_name': ['IL Aqr'], 'obj_name': ['GJ 876'], 'coord': <CartesianRepresentation (x, y, z) in cm\n",
            "    [(14.53933388, 18.6115759, -40.31176979)]>}\n",
            "{'obj': [95], 'system': [46], 'system_name': ['L 143-23'], 'obj_name': ['L 143-23'], 'coord': <CartesianRepresentation (x, y, z) in cm\n",
            "    [(15.10443922, -45.86321177, -1.69710075)]>}\n",
            "{'obj': [96], 'system': [47], 'system_name': ['G 158-27'], 'obj_name': ['G 158-27'], 'coord': <CartesianRepresentation (x, y, z) in cm\n",
            "    [(-0.78336639, 18.34836212, -44.84669104)]>}\n",
            "{'obj': [97], 'system': [48], 'system_name': ['DENIS J025503.3-470049'], 'obj_name': ['DENIS J025503.3-470049'], 'coord': <CartesianRepresentation (x, y, z) in cm\n",
            "    [(-4.13891149, -24.97279495, -41.58037005)]>}\n",
            "{'obj': [98], 'system': [49], 'system_name': ['HD 88230'], 'obj_name': ['HD 88230'], 'coord': <CartesianRepresentation (x, y, z) in cm\n",
            "    [(-28.98783487, 7.2957246, 38.45416702)]>}\n",
            "{'obj': [99], 'system': [50], 'system_name': ['BD+44 2051'], 'obj_name': ['BD+44 2051 A'], 'coord': <CartesianRepresentation (x, y, z) in cm\n",
            "    [(-21.78182098, 4.42545538, 43.72116031)]>}\n",
            "{'obj': [100], 'system': [50], 'system_name': ['BD+44 2051'], 'obj_name': ['BD+44 2051 B'], 'coord': <CartesianRepresentation (x, y, z) in cm\n",
            "    [(-21.78129952, 4.4245431, 43.73642521)]>}\n",
            "{'obj': [101], 'system': [51], 'system_name': ['BD+20 2465'], 'obj_name': ['BD+20 2465'], 'coord': <CartesianRepresentation (x, y, z) in cm\n",
            "    [(-23.14635013, -17.09933265, 40.4606748)]>}\n",
            "{'obj': [102], 'system': [52], 'system_name': ['HD 204961'], 'obj_name': ['GJ 832'], 'coord': <CartesianRepresentation (x, y, z) in cm\n",
            "    [(33.67531016, -6.44341541, -35.9395648)]>}\n",
            "{'obj': [105], 'system': [53], 'system_name': ['CD-44 11909'], 'obj_name': ['GJ 682'], 'coord': <CartesianRepresentation (x, y, z) in cm\n",
            "    [(48.25955786, -12.0499657, -5.78540548)]>}\n",
            "{'obj': [108], 'system': [54], 'system_name': ['omi02 Eri'], 'obj_name': ['GJ 166 A'], 'coord': <CartesianRepresentation (x, y, z) in cm\n",
            "    [(-36.88169094, -13.98328156, -30.88749399)]>}\n",
            "{'obj': [109], 'system': [54], 'system_name': ['omi02 Eri'], 'obj_name': ['GJ 166 B'], 'coord': <CartesianRepresentation (x, y, z) in cm\n",
            "    [(-36.87049593, -13.99316833, -30.86258041)]>}\n",
            "{'obj': [110], 'system': [54], 'system_name': ['omi02 Eri'], 'obj_name': ['GJ 166 C'], 'coord': <CartesianRepresentation (x, y, z) in cm\n",
            "    [(-36.91548475, -14.00805658, -30.89963533)]>}\n",
            "{'obj': [111], 'system': [55], 'system_name': ['EV Lac'], 'obj_name': ['EV Lac'], 'coord': <CartesianRepresentation (x, y, z) in cm\n",
            "    [(-9.0542001, 48.36720519, -11.42346521)]>}\n",
            "{'obj': [112], 'system': [56], 'system_name': ['G 9-38'], 'obj_name': ['G 9-38 A'], 'coord': <CartesianRepresentation (x, y, z) in cm\n",
            "    [(-36.72802265, -19.15981408, 30.61104151)]>}\n",
            "{'obj': [113], 'system': [56], 'system_name': ['G 9-38'], 'obj_name': ['G 9-38 B'], 'coord': <CartesianRepresentation (x, y, z) in cm\n",
            "    [(-36.33192092, -18.95338202, 30.28034854)]>}\n",
            "{'obj': [114], 'system': [57], 'system_name': ['70 Oph'], 'obj_name': ['70 Oph A'], 'coord': <CartesianRepresentation (x, y, z) in cm\n",
            "    [(43.46286365, 24.98153169, 10.07545158)]>}\n",
            "{'obj': [115], 'system': [57], 'system_name': ['70 Oph'], 'obj_name': ['70 Oph B'], 'coord': <CartesianRepresentation (x, y, z) in cm\n",
            "    [(43.39911434, 24.94463621, 10.05904463)]>}\n",
            "{'obj': [116], 'system': [58], 'system_name': ['alf Aql'], 'obj_name': ['alf Aql'], 'coord': <CartesianRepresentation (x, y, z) in cm\n",
            "    [(34.07692759, 37.50804414, -7.94402755)]>}\n",
            "{'obj': [117], 'system': [59], 'system_name': ['2MASS J15065257+7027247'], 'obj_name': ['2MASS J15065257+7027247'], 'coord': <CartesianRepresentation (x, y, z) in cm\n",
            "    [(-11.89996483, 36.03761395, 34.90447267)]>}\n",
            "{'obj': [118], 'system': [60], 'system_name': ['G 99-49'], 'obj_name': ['G 99-49'], 'coord': <CartesianRepresentation (x, y, z) in cm\n",
            "    [(-46.62657688, -21.3110313, -9.17036114)]>}\n",
            "{'obj': [119], 'system': [61], 'system_name': ['2MASS J08173001-6155158'], 'obj_name': ['2MASS J08173001-6155158'], 'coord': <CartesianRepresentation (x, y, z) in cm\n",
            "    [(5.32088479, -50.20954067, -12.96136987)]>}\n",
            "{'obj': [120], 'system': [62], 'system_name': ['G 254-29'], 'obj_name': ['G 254-29'], 'coord': <CartesianRepresentation (x, y, z) in cm\n",
            "    [(-24.84402503, 33.15855643, 32.30961433)]>}\n",
            "{'obj': [121], 'system': [63], 'system_name': ['WISEA J154045.67-510139.3'], 'obj_name': ['WISEA J154045.67-510139.3'], 'coord': <CartesianRepresentation (x, y, z) in cm\n",
            "    [(45.11408648, -28.14715509, 3.15698716)]>}\n",
            "{'obj': [122], 'system': [64], 'system_name': ['2MASS J09393548-2448279'], 'obj_name': ['2MASS J09393548-2448279'], 'coord': <CartesianRepresentation (x, y, z) in cm\n",
            "    [(-11.32684832, -48.72104148, 18.66775132)]>}\n",
            "{'obj': [123], 'system': [65], 'system_name': ['LP 656-38'], 'obj_name': ['GJ 3323'], 'coord': <CartesianRepresentation (x, y, z) in cm\n",
            "    [(-42.7028606, -21.22722272, -24.79777418)]>}\n",
            "{'obj': [126], 'system': [66], 'system_name': ['HD 119850'], 'obj_name': ['HD 119850'], 'coord': <CartesianRepresentation (x, y, z) in cm\n",
            "    [(16.25374162, -2.40602288, 51.80574576)]>}\n",
            "{'obj': [127], 'system': [67], 'system_name': ['G 175-34'], 'obj_name': ['GJ 169.1 A'], 'coord': <CartesianRepresentation (x, y, z) in cm\n",
            "    [(-46.46742892, 28.90846003, 7.02005576)]>}\n",
            "{'obj': [128], 'system': [67], 'system_name': ['G 175-34'], 'obj_name': ['GJ 169.1 B'], 'coord': <CartesianRepresentation (x, y, z) in cm\n",
            "    [(-46.45993619, 28.90318442, 7.02159912)]>}\n",
            "{'obj': [129], 'system': [68], 'system_name': ['2MASS J11145133-2618235'], 'obj_name': ['2MASS J11145133-2618235'], 'coord': <CartesianRepresentation (x, y, z) in cm\n",
            "    [(6.10650321, -47.0678331, 29.34907648)]>}\n",
            "{'obj': [130], 'system': [69], 'system_name': ['HD 265866'], 'obj_name': ['GJ 251'], 'coord': <CartesianRepresentation (x, y, z) in cm\n",
            "    [(-53.83918672, -2.76198377, 14.57810538)]>}\n",
            "{'obj': [132], 'system': [70], 'system_name': ['LP 816-60'], 'obj_name': ['LP 816-60'], 'coord': <CartesianRepresentation (x, y, z) in cm\n",
            "    [(40.18267318, 23.35209024, -31.60127033)]>}\n",
            "{'obj': [133], 'system': [71], 'system_name': ['WISE J035000.32-565830.2'], 'obj_name': ['WISE J035000.32-565830.2'], 'coord': <CartesianRepresentation (x, y, z) in cm\n",
            "    [(-0.67312583, -38.89347756, -41.2374326)]>}\n",
            "{'obj': [134], 'system': [72], 'system_name': ['2MASSI J1835379+325954'], 'obj_name': ['2MASSI J1835379+325954'], 'coord': <CartesianRepresentation (x, y, z) in cm\n",
            "    [(25.77629852, 47.75702967, 17.05176921)]>}\n",
            "{'obj': [135], 'system': [73], 'system_name': ['HD 36395'], 'obj_name': ['HD 36395'], 'coord': <CartesianRepresentation (x, y, z) in cm\n",
            "    [(-47.94705281, -24.37238466, -18.99259967)]>}\n",
            "{'obj': [136], 'system': [74], 'system_name': ['2MASSI J0415195-093506'], 'obj_name': ['2MASSI J0415195-093506'], 'coord': <CartesianRepresentation (x, y, z) in cm\n",
            "    [(-40.88264142, -17.30464055, -35.87498274)]>}\n",
            "{'obj': [137], 'system': [75], 'system_name': ['HD 42581'], 'obj_name': ['GJ 229 A'], 'coord': <CartesianRepresentation (x, y, z) in cm\n",
            "    [(-36.13245426, -41.00607355, -18.2243542)]>}\n",
            "{'obj': [140], 'system': [75], 'system_name': ['HD 42581'], 'obj_name': ['GJ 229 B'], 'coord': <CartesianRepresentation (x, y, z) in cm\n",
            "    [(-36.21333936, -41.09701313, -18.26317145)]>}\n",
            "{'obj': [141], 'system': [76], 'system_name': ['sig Dra'], 'obj_name': ['sig Dra'], 'coord': <CartesianRepresentation (x, y, z) in cm\n",
            "    [(-10.47787926, 52.45374371, 21.47237417)]>}\n",
            "{'obj': [142], 'system': [77], 'system_name': ['Ross 47'], 'obj_name': ['Ross 47'], 'coord': <CartesianRepresentation (x, y, z) in cm\n",
            "    [(-55.53472519, -13.55727585, -9.26698152)]>}\n",
            "{'obj': [143], 'system': [78], 'system_name': ['GJ 570'], 'obj_name': ['GJ 570 A'], 'coord': <CartesianRepresentation (x, y, z) in cm\n",
            "    [(46.02187047, -18.36852798, 31.77275891)]>}\n",
            "{'obj': [144], 'system': [78], 'system_name': ['GJ 570'], 'obj_name': ['GJ 570 B'], 'coord': <CartesianRepresentation (x, y, z) in cm\n",
            "    [(46.32129928, -18.49074358, 31.9883916)]>}\n",
            "{'obj': [145], 'system': [78], 'system_name': ['GJ 570'], 'obj_name': ['GJ 570 C'], 'coord': <CartesianRepresentation (x, y, z) in cm\n",
            "    [(46.32129928, -18.49074358, 31.9883916)]>}\n",
            "{'obj': [146], 'system': [78], 'system_name': ['GJ 570'], 'obj_name': ['GJ 570 D'], 'coord': <CartesianRepresentation (x, y, z) in cm\n",
            "    [(46.13417223, -18.42767812, 31.95213994)]>}\n",
            "{'obj': [147], 'system': [79], 'system_name': ['L 205-128'], 'obj_name': ['L 205-128'], 'coord': <CartesianRepresentation (x, y, z) in cm\n",
            "    [(51.80891288, -23.83322445, -14.69715084)]>}\n",
            "{'obj': [148], 'system': [80], 'system_name': ['L 347-14'], 'obj_name': ['L 347-14'], 'coord': <CartesianRepresentation (x, y, z) in cm\n",
            "    [(53.53816364, -7.19389861, -23.94724035)]>}\n",
            "{'obj': [149], 'system': [81], 'system_name': ['BR Psc'], 'obj_name': ['BR Psc'], 'coord': <CartesianRepresentation (x, y, z) in cm\n",
            "    [(-2.00890389, 32.22247135, -49.49755674)]>}\n",
            "{'obj': [150], 'system': [82], 'system_name': ['HD 180617'], 'obj_name': ['GJ 752 A'], 'coord': <CartesianRepresentation (x, y, z) in cm\n",
            "    [(44.94401068, 38.30518474, -3.38815543)]>}\n",
            "{'obj': [152], 'system': [82], 'system_name': ['HD 180617'], 'obj_name': ['GJ 752 B'], 'coord': <CartesianRepresentation (x, y, z) in cm\n",
            "    [(44.97994306, 38.31953461, -3.40806228)]>}\n",
            "{'obj': [153], 'system': [83], 'system_name': ['CD-40 9712'], 'obj_name': ['CD-40 9712'], 'coord': <CartesianRepresentation (x, y, z) in cm\n",
            "    [(51.39337212, -26.56270747, 12.43248024)]>}\n",
            "{'obj': [154], 'system': [84], 'system_name': ['eta Cas'], 'obj_name': ['eta Cas A'], 'coord': <CartesianRepresentation (x, y, z) in cm\n",
            "    [(-31.80891579, 49.69074547, -5.2216384)]>}\n",
            "{'obj': [155], 'system': [84], 'system_name': ['eta Cas'], 'obj_name': ['eta Cas B'], 'coord': <CartesianRepresentation (x, y, z) in cm\n",
            "    [(-31.82862938, 49.725621, -5.22203164)]>}\n",
            "{'obj': [156], 'system': [85], 'system_name': ['36 Oph'], 'obj_name': ['36 Oph A'], 'coord': <CartesianRepresentation (x, y, z) in cm\n",
            "    [(59.02298998, -1.77907042, 7.12157144)]>}\n",
            "{'obj': [157], 'system': [85], 'system_name': ['36 Oph'], 'obj_name': ['36 Oph B'], 'coord': <CartesianRepresentation (x, y, z) in cm\n",
            "    [(59.06752099, -1.78001585, 7.12836211)]>}\n",
            "{'obj': [158], 'system': [85], 'system_name': ['36 Oph'], 'obj_name': ['36 Oph C'], 'coord': <CartesianRepresentation (x, y, z) in cm\n",
            "    [(59.1026565, -1.61682333, 6.99733311)]>}\n",
            "{'obj': [159], 'system': [86], 'system_name': ['HD 155876'], 'obj_name': ['GJ 661 A'], 'coord': <CartesianRepresentation (x, y, z) in cm\n",
            "    [(15.48926674, 45.83566759, 35.10550539)]>}\n",
            "{'obj': [160], 'system': [86], 'system_name': ['HD 155876'], 'obj_name': ['GJ 661 B'], 'coord': <CartesianRepresentation (x, y, z) in cm\n",
            "    [(15.48926674, 45.83566759, 35.10550539)]>}\n",
            "{'obj': [161], 'system': [87], 'system_name': ['YZ CMi'], 'obj_name': ['YZ CMi'], 'coord': <CartesianRepresentation (x, y, z) in cm\n",
            "    [(-47.20621152, -34.11779915, 13.9350196)]>}\n",
            "{'obj': [162], 'system': [88], 'system_name': ['WISE J154151.65-225024.9'], 'obj_name': ['WISE J154151.65-225024.9'], 'coord': <CartesianRepresentation (x, y, z) in cm\n",
            "    [(52.70051297, -12.60703046, 25.56677226)]>}\n",
            "{'obj': [163], 'system': [89], 'system_name': ['G 158-50'], 'obj_name': ['G 158-50 A'], 'coord': <CartesianRepresentation (x, y, z) in cm\n",
            "    [(1.51568277, 14.23253198, -58.29253355)]>}\n",
            "{'obj': [164], 'system': [89], 'system_name': ['G 158-50'], 'obj_name': ['G 158-50 B'], 'coord': <CartesianRepresentation (x, y, z) in cm\n",
            "    [(1.51568277, 14.23253198, -58.29253355)]>}\n",
            "{'obj': [165], 'system': [90], 'system_name': ['IRAS 20079-3614'], 'obj_name': ['GJ 783 A'], 'coord': <CartesianRepresentation (x, y, z) in cm\n",
            "    [(51.35940555, 4.69733369, -30.90074786)]>}\n",
            "{'obj': [166], 'system': [90], 'system_name': ['IRAS 20079-3614'], 'obj_name': ['GJ 783 B'], 'coord': <CartesianRepresentation (x, y, z) in cm\n",
            "    [(51.35940555, 4.69733369, -30.90074786)]>}\n",
            "{'obj': [167], 'system': [91], 'system_name': ['e Eri'], 'obj_name': ['HD 20794'], 'coord': <CartesianRepresentation (x, y, z) in cm\n",
            "    [(-11.12818242, -31.8377383, -50.12372957)]>}\n",
            "{'obj': [170], 'system': [92], 'system_name': ['QY Aur'], 'obj_name': ['GJ 268 A'], 'coord': <CartesianRepresentation (x, y, z) in cm\n",
            "    [(-56.903087, 1.03517508, 20.60391673)]>}\n",
            "{'obj': [171], 'system': [92], 'system_name': ['QY Aur'], 'obj_name': ['GJ 268 B'], 'coord': <CartesianRepresentation (x, y, z) in cm\n",
            "    [(-56.903087, 1.03517508, 20.60391673)]>}\n",
            "{'obj': [172], 'system': [93], 'system_name': ['del Pav'], 'obj_name': ['del Pav'], 'coord': <CartesianRepresentation (x, y, z) in cm\n",
            "    [(44.47993961, -25.92871406, -32.70060446)]>}\n",
            "{'obj': [173], 'system': [94], 'system_name': ['SIMP J013656.5+093347.3'], 'obj_name': ['SIMP J013656.5+093347.3'], 'coord': <CartesianRepresentation (x, y, z) in cm\n",
            "    [(-29.57240432, 23.75551533, -48.00350026)]>}\n",
            "{'obj': [174], 'system': [95], 'system_name': ['2MASSI J0937347+293142'], 'obj_name': ['2MASSI J0937347+293142'], 'coord': <CartesianRepresentation (x, y, z) in cm\n",
            "    [(-39.42857263, -12.69545738, 45.33138725)]>}\n",
            "{'obj': [175], 'system': [96], 'system_name': ['HD 191849'], 'obj_name': ['HD 191849'], 'coord': <CartesianRepresentation (x, y, z) in cm\n",
            "    [(51.5009252, -4.68119224, -33.55508292)]>}\n",
            "{'obj': [176], 'system': [97], 'system_name': ['WISE J220905.73+271143.9'], 'obj_name': ['WISE J220905.73+271143.9'], 'coord': <CartesianRepresentation (x, y, z) in cm\n",
            "    [(6.00521981, 56.55393936, -24.29271303)]>}\n",
            "{'obj': [177], 'system': [98], 'system_name': ['EGGR 372'], 'obj_name': ['EGGR 372'], 'coord': <CartesianRepresentation (x, y, z) in cm\n",
            "    [(-10.59230654, 52.35254741, 31.7035892)]>}\n",
            "{'obj': [178], 'system': [99], 'system_name': ['HN Lib'], 'obj_name': ['BD-11 3759'], 'coord': <CartesianRepresentation (x, y, z) in cm\n",
            "    [(42.41720941, -16.77681538, 42.77094114)]>}\n",
            "{'obj': [179], 'system': [100], 'system_name': ['EQ Peg'], 'obj_name': ['BD+19 5116 A'], 'coord': <CartesianRepresentation (x, y, z) in cm\n",
            "    [(-7.24584564, 48.03193291, -39.53693324)]>}\n",
            "{'obj': [180], 'system': [100], 'system_name': ['EQ Peg'], 'obj_name': ['BD+19 5116 B'], 'coord': <CartesianRepresentation (x, y, z) in cm\n",
            "    [(-7.23629728, 47.95789568, -39.47657262)]>}\n",
            "{'obj': [181], 'system': [101], 'system_name': ['HO Lib'], 'obj_name': ['GJ 581'], 'coord': <CartesianRepresentation (x, y, z) in cm\n",
            "    [(47.99073226, -4.98292426, 40.51733641)]>}\n",
            "{'obj': [185], 'system': [102], 'system_name': ['WISE J140518.39+553421.3'], 'obj_name': ['WISE J140518.39+553421.3'], 'coord': <CartesianRepresentation (x, y, z) in cm\n",
            "    [(-7.3257793, 32.12616612, 53.94338469)]>}\n",
            "{'obj': [186], 'system': [103], 'system_name': ['MCC 541'], 'obj_name': ['GJ 338 A'], 'coord': <CartesianRepresentation (x, y, z) in cm\n",
            "    [(-44.97611982, 12.10127938, 42.92044519)]>}\n",
            "{'obj': [187], 'system': [103], 'system_name': ['MCC 541'], 'obj_name': ['GJ 338 B'], 'coord': <CartesianRepresentation (x, y, z) in cm\n",
            "    [(-44.97417473, 12.10102537, 42.92577487)]>}\n",
            "{'obj': [189], 'system': [104], 'system_name': ['LP 368-128'], 'obj_name': ['LP 368-128'], 'coord': <CartesianRepresentation (x, y, z) in cm\n",
            "    [(-45.54063215, -21.52824593, 38.80335543)]>}\n",
            "{'obj': [190], 'system': [105], 'system_name': ['2MASS J15031961+2525196'], 'obj_name': ['2MASS J15031961+2525196'], 'coord': <CartesianRepresentation (x, y, z) in cm\n",
            "    [(25.20611886, 19.12605462, 55.85534362)]>}\n",
            "{'obj': [191], 'system': [106], 'system_name': ['LP 944-20'], 'obj_name': ['LP 944-20'], 'coord': <CartesianRepresentation (x, y, z) in cm\n",
            "    [(-21.04963532, -32.00776898, -51.60235459)]>}\n",
            "{'obj': [192], 'system': [107], 'system_name': ['EGGR 45'], 'obj_name': ['EGGR 45'], 'coord': <CartesianRepresentation (x, y, z) in cm\n",
            "    [(-53.90566859, -31.40956857, -16.03841316)]>}\n",
            "{'obj': [193], 'system': [108], 'system_name': ['GL Vir'], 'obj_name': ['GL Vir'], 'coord': <CartesianRepresentation (x, y, z) in cm\n",
            "    [(2.012459, -19.58152602, 61.5711566)]>}\n",
            "{'obj': [194], 'system': [109], 'system_name': ['G 202-48'], 'obj_name': ['GJ 625'], 'coord': <CartesianRepresentation (x, y, z) in cm\n",
            "    [(5.62184241, 47.21574146, 44.00585932)]>}\n",
            "{'obj': [196], 'system': [110], 'system_name': ['HD 152751'], 'obj_name': ['GJ 644 A'], 'coord': <CartesianRepresentation (x, y, z) in cm\n",
            "    [(59.48598456, 11.56577368, 23.36841972)]>}\n",
            "{'obj': [197], 'system': [110], 'system_name': ['HD 152751'], 'obj_name': ['GJ 644 Ba'], 'coord': <CartesianRepresentation (x, y, z) in cm\n",
            "    [(59.48598456, 11.56577368, 23.36841972)]>}\n",
            "{'obj': [198], 'system': [110], 'system_name': ['HD 152751'], 'obj_name': ['GJ 644 Bb'], 'coord': <CartesianRepresentation (x, y, z) in cm\n",
            "    [(59.48598456, 11.56577368, 23.36841972)]>}\n",
            "{'obj': [199], 'system': [110], 'system_name': ['HD 152751'], 'obj_name': ['GJ 644 C'], 'coord': <CartesianRepresentation (x, y, z) in cm\n",
            "    [(59.48598456, 11.56577368, 23.36841972)]>}\n",
            "{'obj': [200], 'system': [110], 'system_name': ['HD 152751'], 'obj_name': ['GJ 643'], 'coord': <CartesianRepresentation (x, y, z) in cm\n",
            "    [(59.48312077, 11.6082473, 23.46063302)]>}\n",
            "{'obj': [201], 'system': [111], 'system_name': ['L 100-115'], 'obj_name': ['L 100-115'], 'coord': <CartesianRepresentation (x, y, z) in cm\n",
            "    [(18.87882707, -60.75799, -13.4843811)]>}\n",
            "{'obj': [202], 'system': [112], 'system_name': ['HD 219134'], 'obj_name': ['HD 219134'], 'coord': <CartesianRepresentation (x, y, z) in cm\n",
            "    [(-22.24014825, 61.41253773, -3.65261615)]>}\n",
            "{'obj': [207], 'system': [113], 'system_name': ['WISEA J082507.37+280548.2'], 'obj_name': ['WISEA J082507.37+280548.2'], 'coord': <CartesianRepresentation (x, y, z) in cm\n",
            "    [(-53.75813856, -14.57826462, 34.52278116)]>}\n",
            "{'obj': [208], 'system': [114], 'system_name': ['WISE J041022.71+150248.4'], 'obj_name': ['WISE J041022.71+150248.4'], 'coord': <CartesianRepresentation (x, y, z) in cm\n",
            "    [(-59.4066364, 2.1235811, -28.8918569)]>}\n",
            "{'obj': [209], 'system': [115], 'system_name': ['2MASS J05212615+1025328'], 'obj_name': ['2MASS J05212615+1025328'], 'coord': <CartesianRepresentation (x, y, z) in cm\n",
            "    [(-62.81419315, -14.2998803, -16.80793909)]>}\n",
            "{'obj': [210], 'system': [116], 'system_name': ['L 471-42'], 'obj_name': ['L 471-42'], 'coord': <CartesianRepresentation (x, y, z) in cm\n",
            "    [(30.53140853, -52.43038737, 27.5446353)]>}\n",
            "{'obj': [211], 'system': [117], 'system_name': ['Ross 104'], 'obj_name': ['Ross 104'], 'coord': <CartesianRepresentation (x, y, z) in cm\n",
            "    [(-23.41596137, -17.27840661, 60.87939548)]>}\n",
            "{'obj': [212], 'system': [118], 'system_name': ['ksi Boo'], 'obj_name': ['ksi Boo A'], 'coord': <CartesianRepresentation (x, y, z) in cm\n",
            "    [(29.78209691, 12.69450457, 59.27029395)]>}\n",
            "{'obj': [213], 'system': [118], 'system_name': ['ksi Boo'], 'obj_name': ['ksi Boo B'], 'coord': <CartesianRepresentation (x, y, z) in cm\n",
            "    [(29.75842612, 12.68477126, 59.22724115)]>}\n",
            "{'obj': [214], 'system': [119], 'system_name': ['Ross 619'], 'obj_name': ['Ross 619'], 'coord': <CartesianRepresentation (x, y, z) in cm\n",
            "    [(-51.99731558, -35.27222341, 25.19393711)]>}\n",
            "{'obj': [215], 'system': [120], 'system_name': ['G 41-14'], 'obj_name': ['G 41-14 A'], 'coord': <CartesianRepresentation (x, y, z) in cm\n",
            "    [(-43.80065301, -37.0082175, 36.03219918)]>}\n",
            "{'obj': [216], 'system': [120], 'system_name': ['G 41-14'], 'obj_name': ['G 41-14 B'], 'coord': <CartesianRepresentation (x, y, z) in cm\n",
            "    [(-43.80056102, -37.0082056, 36.03232322)]>}\n",
            "{'obj': [217], 'system': [120], 'system_name': ['G 41-14'], 'obj_name': ['G 41-14 C'], 'coord': <CartesianRepresentation (x, y, z) in cm\n",
            "    [(-43.80065301, -37.0082175, 36.03219918)]>}\n",
            "{'obj': [218], 'system': [121], 'system_name': ['GJ 829'], 'obj_name': ['GJ 829 A'], 'coord': <CartesianRepresentation (x, y, z) in cm\n",
            "    [(21.67264529, 58.1791925, -27.24190759)]>}\n",
            "{'obj': [219], 'system': [121], 'system_name': ['GJ 829'], 'obj_name': ['GJ 829 B'], 'coord': <CartesianRepresentation (x, y, z) in cm\n",
            "    [(21.67264529, 58.1791925, -27.24190759)]>}\n",
            "{'obj': [220], 'system': [122], 'system_name': [\"Scholz's Star\"], 'obj_name': [\"Scholtz's Star A\"], 'coord': <CartesianRepresentation (x, y, z) in cm\n",
            "    [(-48.85457341, -47.19402219, 2.71414335)]>}\n",
            "{'obj': [221], 'system': [122], 'system_name': [\"Scholz's Star\"], 'obj_name': [\"Scholtz's Star B\"], 'coord': <CartesianRepresentation (x, y, z) in cm\n",
            "    [(-48.85457341, -47.19402219, 2.71414335)]>}\n",
            "{'obj': [222], 'system': [123], 'system_name': ['2MASS J19284155+2356016'], 'obj_name': ['2MASS J19284155+2356016'], 'coord': <CartesianRepresentation (x, y, z) in cm\n",
            "    [(35.79587991, 58.05731757, 3.64486651)]>}\n",
            "{'obj': [223], 'system': [124], 'system_name': ['WISEPA J025409.45+022359.1'], 'obj_name': ['WISEPA J025409.45+022359.1'], 'coord': <CartesianRepresentation (x, y, z) in cm\n",
            "    [(-45.24788505, 5.68482798, -51.04119378)]>}\n",
            "{'obj': [224], 'system': [125], 'system_name': ['BD-17 588'], 'obj_name': ['BD-17 588 A'], 'coord': <CartesianRepresentation (x, y, z) in cm\n",
            "    [(-33.99982782, -12.70332028, -58.25627133)]>}\n",
            "{'obj': [226], 'system': [125], 'system_name': ['BD-17 588'], 'obj_name': ['BD-17 588 B'], 'coord': <CartesianRepresentation (x, y, z) in cm\n",
            "    [(-33.99982782, -12.70332028, -58.25627133)]>}\n",
            "{'obj': [227], 'system': [125], 'system_name': ['BD-17 588'], 'obj_name': ['BD-17 588 C'], 'coord': <CartesianRepresentation (x, y, z) in cm\n",
            "    [(-33.99982782, -12.70332028, -58.25627133)]>}\n",
            "{'obj': [228], 'system': [126], 'system_name': ['HD 216899'], 'obj_name': ['HD 216899'], 'coord': <CartesianRepresentation (x, y, z) in cm\n",
            "    [(2.77199655, 53.90191125, -42.45594219)]>}\n",
            "{'obj': [229], 'system': [127], 'system_name': ['CWISE J105512.11+544328.3'], 'obj_name': ['CWISE J105512.11+544328.3'], 'coord': <CartesianRepresentation (x, y, z) in cm\n",
            "    [(-34.84790588, 18.21592116, 56.65726997)]>}\n",
            "{'obj': [230], 'system': [128], 'system_name': ['Wolf 358'], 'obj_name': ['Wolf 358'], 'coord': <CartesianRepresentation (x, y, z) in cm\n",
            "    [(-18.32387771, -35.6151557, 57.00306459)]>}\n",
            "{'obj': [231], 'system': [129], 'system_name': ['BD+01 2447'], 'obj_name': ['BD+01 2447'], 'coord': <CartesianRepresentation (x, y, z) in cm\n",
            "    [(-20.72630956, -43.40621041, 51.37134807)]>}\n",
            "{'obj': [232], 'system': [130], 'system_name': ['HD 199305'], 'obj_name': ['HD 199305'], 'coord': <CartesianRepresentation (x, y, z) in cm\n",
            "    [(-10.46090985, 68.28470777, 13.53927329)]>}\n",
            "{'obj': [233], 'system': [131], 'system_name': ['UCAC4 642-113039'], 'obj_name': ['UCAC4 642-113039'], 'coord': <CartesianRepresentation (x, y, z) in cm\n",
            "    [(2.99614629, 68.96729142, -14.1858823)]>}\n",
            "{'obj': [234], 'system': [132], 'system_name': ['LP 914-54'], 'obj_name': ['LP 914-54'], 'coord': <CartesianRepresentation (x, y, z) in cm\n",
            "    [(56.3866715, -27.64234978, 32.10202585)]>}\n",
            "{'obj': [235], 'system': [133], 'system_name': ['WISE J205628.91+145953.2'], 'obj_name': ['WISE J205628.91+145953.2'], 'coord': <CartesianRepresentation (x, y, z) in cm\n",
            "    [(31.50064182, 59.23567171, -23.30391709)]>}\n",
            "{'obj': [236], 'system': [134], 'system_name': ['L 230-188'], 'obj_name': ['L 230-188'], 'coord': <CartesianRepresentation (x, y, z) in cm\n",
            "    [(-6.08021957, -49.80981909, -50.33583478)]>}\n",
            "{'obj': [237], 'system': [135], 'system_name': ['WISE J004945.61+215120.0'], 'obj_name': ['WISE J004945.61+215120.0'], 'coord': <CartesianRepresentation (x, y, z) in cm\n",
            "    [(-28.80871637, 45.36836874, -46.74162759)]>}\n",
            "{'obj': [238], 'system': [136], 'system_name': ['G 157-77'], 'obj_name': ['G 157-77'], 'coord': <CartesianRepresentation (x, y, z) in cm\n",
            "    [(4.30505101, 36.43087675, -61.683285)]>}\n",
            "{'obj': [239], 'system': [137], 'system_name': ['HD 16160'], 'obj_name': ['GJ 105 A'], 'coord': <CartesianRepresentation (x, y, z) in cm\n",
            "    [(-46.7271792, 13.92463875, -53.3656574)]>}\n",
            "{'obj': [240], 'system': [137], 'system_name': ['HD 16160'], 'obj_name': ['GJ 105 B'], 'coord': <CartesianRepresentation (x, y, z) in cm\n",
            "    [(-46.72142306, 13.86526744, -53.31749055)]>}\n",
            "{'obj': [241], 'system': [137], 'system_name': ['HD 16160'], 'obj_name': ['GJ 105 C'], 'coord': <CartesianRepresentation (x, y, z) in cm\n",
            "    [(-46.7271792, 13.92463875, -53.3656574)]>}\n",
            "{'obj': [242], 'system': [138], 'system_name': ['V488 Hya'], 'obj_name': ['2MASS J08354256-0819237'], 'coord': <CartesianRepresentation (x, y, z) in cm\n",
            "    [(-41.08107996, -54.78187545, 23.20385798)]>}\n",
            "{'obj': [243], 'system': [139], 'system_name': ['L 788-34'], 'obj_name': ['L 788-34'], 'coord': <CartesianRepresentation (x, y, z) in cm\n",
            "    [(31.84601682, 27.30533622, -58.94013233)]>}\n",
            "{'obj': [244], 'system': [140], 'system_name': ['HD 156384'], 'obj_name': ['GJ 667 A'], 'coord': <CartesianRepresentation (x, y, z) in cm\n",
            "    [(71.67428873, -10.2751302, 1.78207751)]>}\n",
            "{'obj': [245], 'system': [140], 'system_name': ['HD 156384'], 'obj_name': ['GJ 667 B'], 'coord': <CartesianRepresentation (x, y, z) in cm\n",
            "    [(71.67428873, -10.2751302, 1.78207751)]>}\n",
            "{'obj': [246], 'system': [140], 'system_name': ['HD 156384'], 'obj_name': ['GJ 667 C'], 'coord': <CartesianRepresentation (x, y, z) in cm\n",
            "    [(71.67428873, -10.2751302, 1.78207751)]>}\n",
            "{'obj': [249], 'system': [141], 'system_name': ['2MASS J06073908+2429574'], 'obj_name': ['2MASS J06073908+2429574'], 'coord': <CartesianRepresentation (x, y, z) in cm\n",
            "    [(-71.94815473, -7.95349962, 2.55329361)]>}\n",
            "{'obj': [250], 'system': [142], 'system_name': ['WISEP J031325.96+780744.2'], 'obj_name': ['WISEP J031325.96+780744.2'], 'coord': <CartesianRepresentation (x, y, z) in cm\n",
            "    [(-45.37329154, 53.84661256, 21.91632647)]>}\n",
            "{'obj': [251], 'system': [143], 'system_name': ['2MASSW J1507476-162738'], 'obj_name': ['2MASSW J1507476-162738'], 'coord': <CartesianRepresentation (x, y, z) in cm\n",
            "    [(58.18092172, -16.56005445, 42.80176971)]>}\n",
            "{'obj': [252], 'system': [144], 'system_name': ['HD 4628'], 'obj_name': ['HD 4628'], 'coord': <CartesianRepresentation (x, y, z) in cm\n",
            "    [(-20.8346756, 33.97348055, -62.76927616)]>}\n",
            "{'obj': [253], 'system': [145], 'system_name': ['bet Hyi'], 'obj_name': ['bet Hyi'], 'coord': <CartesianRepresentation (x, y, z) in cm\n",
            "    [(32.76417983, -47.21263681, -47.85437848)]>}\n",
            "{'obj': [254], 'system': [146], 'system_name': ['WISE J200050.19+362950.1'], 'obj_name': ['WISE J200050.19+362950.1'], 'coord': <CartesianRepresentation (x, y, z) in cm\n",
            "    [(22.24942031, 71.45295044, 4.3380163)]>}\n",
            "{'obj': [255], 'system': [147], 'system_name': ['G 203-47'], 'obj_name': ['G 203-47 A'], 'coord': <CartesianRepresentation (x, y, z) in cm\n",
            "    [(22.10797199, 57.12575471, 44.96745663)]>}\n",
            "{'obj': [256], 'system': [147], 'system_name': ['G 203-47'], 'obj_name': ['G 203-47 B'], 'coord': <CartesianRepresentation (x, y, z) in cm\n",
            "    [(22.10797199, 57.12575471, 44.96745663)]>}\n",
            "{'obj': [257], 'system': [148], 'system_name': ['alf PsA'], 'obj_name': ['alf PsA A'], 'coord': <CartesianRepresentation (x, y, z) in cm\n",
            "    [(30.60044424, 11.4338215, -69.76657228)]>}\n",
            "{'obj': [258], 'system': [148], 'system_name': ['alf PsA'], 'obj_name': ['alf PsA B'], 'coord': <CartesianRepresentation (x, y, z) in cm\n",
            "    [(31.33109929, 8.94572855, -68.67792948)]>}\n",
            "{'obj': [259], 'system': [148], 'system_name': ['alf PsA'], 'obj_name': ['alf PsA C'], 'coord': <CartesianRepresentation (x, y, z) in cm\n",
            "    [(30.52765145, 18.80399927, -67.87539946)]>}\n",
            "{'obj': [260], 'system': [149], 'system_name': ['mu. Cas'], 'obj_name': ['GJ 53 A'], 'coord': <CartesianRepresentation (x, y, z) in cm\n",
            "    [(-44.02914417, 61.98219496, -10.51973018)]>}\n",
            "{'obj': [261], 'system': [149], 'system_name': ['mu. Cas'], 'obj_name': ['GJ 53 B'], 'coord': <CartesianRepresentation (x, y, z) in cm\n",
            "    [(-44.02914417, 61.98219496, -10.51973018)]>}\n",
            "{'obj': [262], 'system': [150], 'system_name': ['VX Ari'], 'obj_name': ['VX Ari'], 'coord': <CartesianRepresentation (x, y, z) in cm\n",
            "    [(-58.65198111, 30.28423707, -39.27086428)]>}\n",
            "{'obj': [263], 'system': [151], 'system_name': ['G 141-36'], 'obj_name': ['G 141-36'], 'coord': <CartesianRepresentation (x, y, z) in cm\n",
            "    [(58.67718911, 48.25356372, 5.5681732)]>}\n",
            "{'obj': [264], 'system': [152], 'system_name': ['BD+11 2576'], 'obj_name': ['BD+11 2576'], 'coord': <CartesianRepresentation (x, y, z) in cm\n",
            "    [(22.24250468, -11.21702644, 72.09445119)]>}\n",
            "{'obj': [265], 'system': [153], 'system_name': ['WISE J173835.53+273259.0'], 'obj_name': ['WISE J173835.53+273259.0'], 'coord': <CartesianRepresentation (x, y, z) in cm\n",
            "    [(42.15318383, 53.26985775, 34.95002477)]>}\n",
            "{'obj': [266], 'system': [154], 'system_name': ['G 258-33'], 'obj_name': ['G 258-33'], 'coord': <CartesianRepresentation (x, y, z) in cm\n",
            "    [(-7.11444794, 67.16419089, 35.75772973)]>}\n",
            "{'obj': [267], 'system': [155], 'system_name': ['107 Psc'], 'obj_name': ['107 Psc'], 'coord': <CartesianRepresentation (x, y, z) in cm\n",
            "    [(-43.44269127, 37.93046408, -50.16895871)]>}\n",
            "{'obj': [268], 'system': [156], 'system_name': ['WISEA J235402.79+024014.1'], 'obj_name': ['WISEA J235402.79+024014.1'], 'coord': <CartesianRepresentation (x, y, z) in cm\n",
            "    [(-4.18733593, 41.32750068, -64.32277634)]>}\n",
            "{'obj': [269], 'system': [157], 'system_name': ['WISE J081117.81-805141.3'], 'obj_name': ['WISE J081117.81-805141.3'], 'coord': <CartesianRepresentation (x, y, z) in cm\n",
            "    [(-4.18733593, 41.32750068, -64.32277634)]>}\n",
            "{'obj': [270], 'system': [158], 'system_name': ['L 499-56'], 'obj_name': ['L 499-56'], 'coord': <CartesianRepresentation (x, y, z) in cm\n",
            "    [(45.64994489, 5.15097776, -61.39044224)]>}\n",
            "{'obj': [271], 'system': [159], 'system_name': ['alf Lyr'], 'obj_name': ['alf Lyr'], 'coord': <CartesianRepresentation (x, y, z) in cm\n",
            "    [(27.80493279, 66.95579415, 25.29989917)]>}\n",
            "{'obj': [272], 'system': [160], 'system_name': ['AN Sex'], 'obj_name': ['AN Sex'], 'coord': <CartesianRepresentation (x, y, z) in cm\n",
            "    [(-24.21937985, -53.13301267, 50.29797204)]>}\n",
            "{'obj': [273], 'system': [161], 'system_name': ['HD 157881'], 'obj_name': ['HD 157881'], 'coord': <CartesianRepresentation (x, y, z) in cm\n",
            "    [(65.8331356, 30.35144444, 26.34988696)]>}\n",
            "{'obj': [274], 'system': [162], 'system_name': ['SIPS J1259-4336'], 'obj_name': ['SIPS J1259-4336'], 'coord': <CartesianRepresentation (x, y, z) in cm\n",
            "    [(41.21450753, -60.18748228, 25.46242136)]>}\n",
            "{'obj': [275], 'system': [163], 'system_name': ['LP 881-64'], 'obj_name': ['LP 881-64 A'], 'coord': <CartesianRepresentation (x, y, z) in cm\n",
            "    [(6.83691041, 4.16042717, -76.91424068)]>}\n",
            "{'obj': [276], 'system': [163], 'system_name': ['LP 881-64'], 'obj_name': ['LP 881-64 B'], 'coord': <CartesianRepresentation (x, y, z) in cm\n",
            "    [(6.83691041, 4.16042717, -76.91424068)]>}\n",
            "{'obj': [277], 'system': [163], 'system_name': ['LP 881-64'], 'obj_name': ['LP 881-64 C'], 'coord': <CartesianRepresentation (x, y, z) in cm\n",
            "    [(6.83691041, 4.16042717, -76.91424068)]>}\n",
            "{'obj': [278], 'system': [164], 'system_name': ['G 192-13'], 'obj_name': ['G 192-13'], 'coord': <CartesianRepresentation (x, y, z) in cm\n",
            "    [(-66.4506063, 32.31257945, 22.83606623)]>}\n",
            "{'obj': [279], 'system': [165], 'system_name': ['HD 165222'], 'obj_name': ['HD 165222'], 'coord': <CartesianRepresentation (x, y, z) in cm\n",
            "    [(69.36820442, 32.16504009, 11.9338181)]>}\n",
            "{'obj': [280], 'system': [166], 'system_name': ['G 109-35'], 'obj_name': ['G 109-35'], 'coord': <CartesianRepresentation (x, y, z) in cm\n",
            "    [(-73.14632963, -21.54392196, 13.99917603)]>}\n",
            "{'obj': [281], 'system': [167], 'system_name': ['G 227-22'], 'obj_name': ['G 227-22'], 'coord': <CartesianRepresentation (x, y, z) in cm\n",
            "    [(-4.42454249, 67.6646059, 38.42387608)]>}\n",
            "{'obj': [282], 'system': [168], 'system_name': ['WISEP J180026.60+013453.1'], 'obj_name': ['WISEP J180026.60+013453.1'], 'coord': <CartesianRepresentation (x, y, z) in cm\n",
            "    [(67.13147345, 36.40821482, 16.31310773)]>}\n",
            "{'obj': [283], 'system': [169], 'system_name': ['G 202-45'], 'obj_name': ['GJ 623 A'], 'coord': <CartesianRepresentation (x, y, z) in cm\n",
            "    [(14.41314286, 54.51973375, 54.52903159)]>}\n",
            "{'obj': [284], 'system': [169], 'system_name': ['G 202-45'], 'obj_name': ['GJ 623 B'], 'coord': <CartesianRepresentation (x, y, z) in cm\n",
            "    [(14.41314286, 54.51973375, 54.52903159)]>}\n",
            "{'obj': [285], 'system': [170], 'system_name': ['CD-68 47'], 'obj_name': ['CD-68 47 A'], 'coord': <CartesianRepresentation (x, y, z) in cm\n",
            "    [(25.645508, -44.18885576, -59.99533889)]>}\n",
            "{'obj': [286], 'system': [170], 'system_name': ['CD-68 47'], 'obj_name': ['CD-68 47 B'], 'coord': <CartesianRepresentation (x, y, z) in cm\n",
            "    [(25.645508, -44.18885576, -59.99533889)]>}\n",
            "{'obj': [287], 'system': [171], 'system_name': ['WISE J000517.48+373720.5'], 'obj_name': ['WISE J000517.48+373720.5'], 'coord': <CartesianRepresentation (x, y, z) in cm\n",
            "    [(-27.95922347, 66.12347258, -32.4923982)]>}\n",
            "{'obj': [288], 'system': [172], 'system_name': ['2MASS J07290002-3954043'], 'obj_name': ['2MASS J07290002-3954043'], 'coord': <CartesianRepresentation (x, y, z) in cm\n",
            "    [(-23.2669592, -74.3100346, -14.33860567)]>}\n",
            "{'obj': [289], 'system': [173], 'system_name': ['G 154-44'], 'obj_name': ['G 154-44'], 'coord': <CartesianRepresentation (x, y, z) in cm\n",
            "    [(77.37192951, 18.94025222, 2.98871615)]>}\n",
            "{'obj': [290], 'system': [174], 'system_name': ['SCR J0740-4257'], 'obj_name': ['SCR J0740-4257'], 'coord': <CartesianRepresentation (x, y, z) in cm\n",
            "    [(-18.54602854, -76.38051509, -13.82615992)]>}\n",
            "{'obj': [291], 'system': [175], 'system_name': ['Wolf 922'], 'obj_name': ['GJ 831 A'], 'coord': <CartesianRepresentation (x, y, z) in cm\n",
            "    [(44.62719844, 41.96391373, -51.15499334)]>}\n",
            "{'obj': [292], 'system': [175], 'system_name': ['Wolf 922'], 'obj_name': ['GJ 831 B'], 'coord': <CartesianRepresentation (x, y, z) in cm\n",
            "    [(44.62719844, 41.96391373, -51.15499334)]>}\n",
            "{'obj': [293], 'system': [176], 'system_name': ['pi.03 Ori'], 'obj_name': ['pi.03 Ori'], 'coord': <CartesianRepresentation (x, y, z) in cm\n",
            "    [(-72.36033379, -14.66035659, -31.43511923)]>}\n",
            "{'obj': [294], 'system': [177], 'system_name': ['CD-44 3045'], 'obj_name': ['CD-44 3045 A'], 'coord': <CartesianRepresentation (x, y, z) in cm\n",
            "    [(-20.69540156, -73.70636806, -24.15323047)]>}\n",
            "{'obj': [295], 'system': [177], 'system_name': ['CD-44 3045'], 'obj_name': ['CD-44 3045 B'], 'coord': <CartesianRepresentation (x, y, z) in cm\n",
            "    [(-20.73069259, -73.83214485, -24.19542294)]>}\n",
            "{'obj': [296], 'system': [178], 'system_name': ['G 122-49'], 'obj_name': ['GJ 1151'], 'coord': <CartesianRepresentation (x, y, z) in cm\n",
            "    [(-28.00560563, 17.58819602, 73.31231803)]>}\n",
            "{'obj': [297], 'system': [179], 'system_name': ['L 399-68'], 'obj_name': ['L 399-68'], 'coord': <CartesianRepresentation (x, y, z) in cm\n",
            "    [(39.0161358, -65.23859289, 26.56939173)]>}\n",
            "{'obj': [298], 'system': [180], 'system_name': ['chi Dra'], 'obj_name': ['chi Dra A'], 'coord': <CartesianRepresentation (x, y, z) in cm\n",
            "    [(-16.54467311, 69.15467124, 37.8949059)]>}\n",
            "{'obj': [299], 'system': [180], 'system_name': ['chi Dra'], 'obj_name': ['chi Dra B'], 'coord': <CartesianRepresentation (x, y, z) in cm\n",
            "    [(-16.54467311, 69.15467124, 37.8949059)]>}\n",
            "{'obj': [300], 'system': [181], 'system_name': ['Wolf 437'], 'obj_name': ['GJ 486'], 'coord': <CartesianRepresentation (x, y, z) in cm\n",
            "    [(12.09242051, -20.91378648, 77.0949284)]>}\n",
            "{'obj': [302], 'system': [182], 'system_name': ['2MASSW J2148162+400359'], 'obj_name': ['2MASSW J2148162+400359'], 'coord': <CartesianRepresentation (x, y, z) in cm\n",
            "    [(1.34576954, 79.503762, -14.66915121)]>}\n",
            "{'obj': [303], 'system': [183], 'system_name': ['G 262-15'], 'obj_name': ['G 262-15'], 'coord': <CartesianRepresentation (x, y, z) in cm\n",
            "    [(-13.47747931, 76.92194629, 21.00930671)]>}\n",
            "{'obj': [304], 'system': [184], 'system_name': ['G 13-22'], 'obj_name': ['G 13-22'], 'coord': <CartesianRepresentation (x, y, z) in cm\n",
            "    [(8.39606243, -36.98954383, 71.43204569)]>}\n",
            "{'obj': [305], 'system': [185], 'system_name': ['L 674-15'], 'obj_name': ['L 674-15'], 'coord': <CartesianRepresentation (x, y, z) in cm\n",
            "    [(-38.4969342, -70.79170406, 9.7235539)]>}\n",
            "{'obj': [306], 'system': [186], 'system_name': ['EGGR 290'], 'obj_name': ['EGGR 290'], 'coord': <CartesianRepresentation (x, y, z) in cm\n",
            "    [(-74.31545477, -29.65688706, -13.64492748)]>}\n",
            "{'obj': [307], 'system': [187], 'system_name': ['2MASS J00345157+0523050'], 'obj_name': ['2MASS J00345157+0523050'], 'coord': <CartesianRepresentation (x, y, z) in cm\n",
            "    [(-19.46228002, 41.18101976, -70.78692015)]>}\n",
            "{'obj': [308], 'system': [188], 'system_name': ['TYC 3980-1081-1'], 'obj_name': ['IRAS 21500+5903'], 'coord': <CartesianRepresentation (x, y, z) in cm\n",
            "    [(-16.48000607, 79.36857843, 5.7236263)]>}\n",
            "{'obj': [309], 'system': [188], 'system_name': ['TYC 3980-1081-1'], 'obj_name': ['UCAC4 747-070768'], 'coord': <CartesianRepresentation (x, y, z) in cm\n",
            "    [(-17.1666085, 82.66095164, 5.95583088)]>}\n",
            "{'obj': [310], 'system': [189], 'system_name': ['BD+18 3421'], 'obj_name': ['GJ 686'], 'coord': <CartesianRepresentation (x, y, z) in cm\n",
            "    [(55.05343185, 50.00060168, 33.57100534)]>}\n",
            "{'obj': [312], 'system': [190], 'system_name': ['LAWD 26'], 'obj_name': ['LAWD 26'], 'coord': <CartesianRepresentation (x, y, z) in cm\n",
            "    [(13.65922571, -75.81818476, -27.17336744)]>}\n",
            "{'obj': [313], 'system': [191], 'system_name': ['UGPS J052127.27+364048.6'], 'obj_name': ['UGPS J052127.27+364048.6'], 'coord': <CartesianRepresentation (x, y, z) in cm\n",
            "    [(-80.76775924, 13.16113437, -0.05839528)]>}\n",
            "{'obj': [314], 'system': [192], 'system_name': ['p Eri'], 'obj_name': ['GJ 66 A'], 'coord': <CartesianRepresentation (x, y, z) in cm\n",
            "    [(13.88290962, -39.00379819, -70.74044204)]>}\n",
            "{'obj': [315], 'system': [192], 'system_name': ['p Eri'], 'obj_name': ['GJ 66 B'], 'coord': <CartesianRepresentation (x, y, z) in cm\n",
            "    [(13.86775378, -38.96762804, -70.68143063)]>}\n",
            "{'obj': [316], 'system': [193], 'system_name': ['L 173-19'], 'obj_name': ['L 173-19'], 'coord': <CartesianRepresentation (x, y, z) in cm\n",
            "    [(10.58423051, -41.49503175, -70.12123662)]>}\n",
            "{'obj': [317], 'system': [194], 'system_name': ['HD 217357'], 'obj_name': ['HD 217357'], 'coord': <CartesianRepresentation (x, y, z) in cm\n",
            "    [(28.34634778, 21.46662787, -74.24814154)]>}\n",
            "{'obj': [318], 'system': [195], 'system_name': ['Ross 318'], 'obj_name': ['Ross 318'], 'coord': <CartesianRepresentation (x, y, z) in cm\n",
            "    [(-45.28468011, 67.58878396, 12.63213149)]>}\n",
            "{'obj': [319], 'system': [196], 'system_name': ['WISE J115013.85+630241.5'], 'obj_name': ['WISE J115013.85+630241.5'], 'coord': <CartesianRepresentation (x, y, z) in cm\n",
            "    [(-34.86652787, 35.70510175, 65.53373577)]>}\n",
            "{'obj': [320], 'system': [197], 'system_name': ['LAWD 96'], 'obj_name': ['LAWD 96'], 'coord': <CartesianRepresentation (x, y, z) in cm\n",
            "    [(23.7383919, -12.81429457, -78.83575157)]>}\n",
            "{'obj': [321], 'system': [198], 'system_name': ['mu. Her'], 'obj_name': ['mu. Her Aa'], 'coord': <CartesianRepresentation (x, y, z) in cm\n",
            "    [(45.83676547, 59.59457288, 36.06429214)]>}\n",
            "{'obj': [322], 'system': [198], 'system_name': ['mu. Her'], 'obj_name': ['mu. Her Ab'], 'coord': <CartesianRepresentation (x, y, z) in cm\n",
            "    [(45.66087388, 59.35103506, 35.93267034)]>}\n",
            "{'obj': [323], 'system': [198], 'system_name': ['mu. Her'], 'obj_name': ['mu. Her B'], 'coord': <CartesianRepresentation (x, y, z) in cm\n",
            "    [(45.85554097, 59.60399267, 36.08556418)]>}\n",
            "{'obj': [324], 'system': [198], 'system_name': ['mu. Her'], 'obj_name': ['mu. Her C'], 'coord': <CartesianRepresentation (x, y, z) in cm\n",
            "    [(45.85554097, 59.60399267, 36.08556418)]>}\n",
            "{'obj': [325], 'system': [199], 'system_name': ['G 207-16'], 'obj_name': ['GJ 747 A'], 'coord': <CartesianRepresentation (x, y, z) in cm\n",
            "    [(35.81692127, 73.37116623, 15.97417152)]>}\n",
            "{'obj': [326], 'system': [199], 'system_name': ['G 207-16'], 'obj_name': ['GJ 747 B'], 'coord': <CartesianRepresentation (x, y, z) in cm\n",
            "    [(35.81692127, 73.37116623, 15.97417152)]>}\n",
            "{'obj': [327], 'system': [200], 'system_name': ['Wolf 489'], 'obj_name': ['Wolf 489'], 'coord': <CartesianRepresentation (x, y, z) in cm\n",
            "    [(31.32321668, -18.43789129, 75.17712436)]>}\n",
            "{'obj': [328], 'system': [201], 'system_name': ['2MASS J03480772-6022270'], 'obj_name': ['2MASS J03480772-6022270'], 'coord': <CartesianRepresentation (x, y, z) in cm\n",
            "    [(3.63205009, -58.35992083, -59.27742129)]>}\n",
            "{'obj': [329], 'system': [202], 'system_name': ['G 227-29'], 'obj_name': ['G 227-29'], 'coord': <CartesianRepresentation (x, y, z) in cm\n",
            "    [(-1.87052943, 74.31779716, 38.03444827)]>}\n",
            "{'obj': [330], 'system': [203], 'system_name': ['G 130-4'], 'obj_name': ['G 130-4'], 'coord': <CartesianRepresentation (x, y, z) in cm\n",
            "    [(-23.44809644, 72.49785514, -34.46199798)]>}\n",
            "{'obj': [331], 'system': [204], 'system_name': ['SCR J1546-5534'], 'obj_name': ['SCR J1546-5534 A'], 'coord': <CartesianRepresentation (x, y, z) in cm\n",
            "    [(69.58044417, -46.98498853, -1.10333136)]>}\n",
            "{'obj': [332], 'system': [204], 'system_name': ['SCR J1546-5534'], 'obj_name': ['SCR J1546-5534 B'], 'coord': <CartesianRepresentation (x, y, z) in cm\n",
            "    [(69.58044417, -46.98498853, -1.10333136)]>}\n",
            "{'obj': [333], 'system': [205], 'system_name': ['HD 32450'], 'obj_name': ['HD 32450 A'], 'coord': <CartesianRepresentation (x, y, z) in cm\n",
            "    [(-52.33397315, -46.66749595, -45.57788752)]>}\n",
            "{'obj': [334], 'system': [205], 'system_name': ['HD 32450'], 'obj_name': ['HD 32450 B'], 'coord': <CartesianRepresentation (x, y, z) in cm\n",
            "    [(-52.66401029, -46.96131463, -45.86507085)]>}\n",
            "{'obj': [335], 'system': [206], 'system_name': ['SCR J1138-7721'], 'obj_name': ['SCR J1138-7721'], 'coord': <CartesianRepresentation (x, y, z) in cm\n",
            "    [(39.03391057, -70.8708889, -21.79258669)]>}\n",
            "{'obj': [336], 'system': [207], 'system_name': ['bet CVn'], 'obj_name': ['bet CVn'], 'coord': <CartesianRepresentation (x, y, z) in cm\n",
            "    [(-15.49096136, 14.88453953, 81.95783913)]>}\n",
            "{'obj': [337], 'system': [208], 'system_name': ['Ross 64'], 'obj_name': ['Ross 64'], 'coord': <CartesianRepresentation (x, y, z) in cm\n",
            "    [(-83.56180427, -13.37978332, 7.32714114)]>}\n",
            "{'obj': [338], 'system': [209], 'system_name': ['CD-37 10765'], 'obj_name': ['CD-37 10765 A'], 'coord': <CartesianRepresentation (x, y, z) in cm\n",
            "    [(80.10086902, -25.60387899, 13.22467084)]>}\n",
            "{'obj': [339], 'system': [209], 'system_name': ['CD-37 10765'], 'obj_name': ['CD-37 10765 B'], 'coord': <CartesianRepresentation (x, y, z) in cm\n",
            "    [(79.95907108, -25.56036847, 13.20141069)]>}\n",
            "{'obj': [340], 'system': [210], 'system_name': ['CD-32 5613'], 'obj_name': ['CD-32 5613'], 'coord': <CartesianRepresentation (x, y, z) in cm\n",
            "    [(-22.61702274, -81.70571846, 8.28043707)]>}\n",
            "{'obj': [341], 'system': [211], 'system_name': ['61 Vir'], 'obj_name': ['61 Vir'], 'coord': <CartesianRepresentation (x, y, z) in cm\n",
            "    [(40.89930748, -45.66065906, 59.37992059)]>}\n",
            "{'obj': [345], 'system': [212], 'system_name': ['EGGR 453'], 'obj_name': ['EGGR 453'], 'coord': <CartesianRepresentation (x, y, z) in cm\n",
            "    [(21.46927843, 43.3442871, -70.34323982)]>}\n",
            "{'obj': [346], 'system': [213], 'system_name': ['Wolf 461'], 'obj_name': ['Wolf 461'], 'coord': <CartesianRepresentation (x, y, z) in cm\n",
            "    [(19.79822255, -24.35488705, 79.4727819)]>}\n",
            "{'obj': [347], 'system': [214], 'system_name': ['G 89-32'], 'obj_name': ['G 89-32 A'], 'coord': <CartesianRepresentation (x, y, z) in cm\n",
            "    [(-71.0603596, -43.84024416, 19.59083369)]>}\n",
            "{'obj': [348], 'system': [214], 'system_name': ['G 89-32'], 'obj_name': ['G 89-32 B'], 'coord': <CartesianRepresentation (x, y, z) in cm\n",
            "    [(-71.0603596, -43.84024416, 19.59083369)]>}\n",
            "{'obj': [349], 'system': [215], 'system_name': ['CWISEP J040235.55-265145.4'], 'obj_name': ['CWISEP J040235.55-265145.4'], 'coord': <CartesianRepresentation (x, y, z) in cm\n",
            "    [(-41.62624295, -40.15170992, -63.52744583)]>}\n",
            "{'obj': [350], 'system': [216], 'system_name': ['L 49-19'], 'obj_name': ['L 49-19'], 'coord': <CartesianRepresentation (x, y, z) in cm\n",
            "    [(44.34817172, -49.26152032, -54.75564749)]>}\n",
            "{'obj': [351], 'system': [217], 'system_name': ['CD Cet'], 'obj_name': ['CD Cet'], 'coord': <CartesianRepresentation (x, y, z) in cm\n",
            "    [(-62.53094713, 5.00133878, -58.84130585)]>}\n",
            "{'obj': [353], 'system': [218], 'system_name': ['zet Tuc'], 'obj_name': ['zet Tuc'], 'coord': <CartesianRepresentation (x, y, z) in cm\n",
            "    [(32.90200851, -41.64384368, -67.76088975)]>}\n",
            "{'obj': [354], 'system': [219], 'system_name': ['NLTT 40406'], 'obj_name': ['NLTT 40406'], 'coord': <CartesianRepresentation (x, y, z) in cm\n",
            "    [(55.00300226, 15.10534694, 64.59636276)]>}\n",
            "{'obj': [355], 'system': [220], 'system_name': ['2MASS J16471580+5632057'], 'obj_name': ['2MASS J16471580+5632057'], 'coord': <CartesianRepresentation (x, y, z) in cm\n",
            "    [(5.46567282, 66.47944665, 54.60987646)]>}\n",
            "{'obj': [356], 'system': [221], 'system_name': ['LP 666-9'], 'obj_name': ['LP 666-9'], 'coord': <CartesianRepresentation (x, y, z) in cm\n",
            "    [(-49.03923575, -61.21688104, 36.67931019)]>}\n",
            "{'obj': [357], 'system': [222], 'system_name': ['G 19-7'], 'obj_name': ['G 19-7'], 'coord': <CartesianRepresentation (x, y, z) in cm\n",
            "    [(77.43593167, 20.6032747, 33.93666518)]>}\n",
            "{'obj': [358], 'system': [223], 'system_name': ['AP Col'], 'obj_name': ['AP Col'], 'coord': <CartesianRepresentation (x, y, z) in cm\n",
            "    [(-38.45307894, -69.20599756, -35.23120816)]>}\n",
            "{'obj': [359], 'system': [224], 'system_name': ['PM J11413-3624'], 'obj_name': ['PM J11413-3624'], 'coord': <CartesianRepresentation (x, y, z) in cm\n",
            "    [(23.81840533, -75.49132968, 35.83595029)]>}\n",
            "{'obj': [360], 'system': [225], 'system_name': ['chi01 Ori'], 'obj_name': ['chi01 Ori A'], 'coord': <CartesianRepresentation (x, y, z) in cm\n",
            "    [(-85.9505689, -12.78080881, -4.14866587)]>}\n",
            "{'obj': [361], 'system': [225], 'system_name': ['chi01 Ori'], 'obj_name': ['chi01 Ori B'], 'coord': <CartesianRepresentation (x, y, z) in cm\n",
            "    [(-85.9505689, -12.78080881, -4.14866587)]>}\n",
            "{'obj': [362], 'system': [226], 'system_name': ['LP 991-84'], 'obj_name': ['LP 991-84'], 'coord': <CartesianRepresentation (x, y, z) in cm\n",
            "    [(-1.10407323, -23.96850309, -83.89320137)]>}\n",
            "{'obj': [363], 'system': [227], 'system_name': ['ksi UMa'], 'obj_name': ['ksi UMa Aa'], 'coord': <CartesianRepresentation (x, y, z) in cm\n",
            "    [(-29.88271271, -8.07163624, 81.67780662)]>}\n",
            "{'obj': [364], 'system': [227], 'system_name': ['ksi UMa'], 'obj_name': ['ksi UMa Ab'], 'coord': <CartesianRepresentation (x, y, z) in cm\n",
            "    [(-29.88271271, -8.07163624, 81.67780662)]>}\n",
            "{'obj': [365], 'system': [227], 'system_name': ['ksi UMa'], 'obj_name': ['ksi UMa Ba'], 'coord': <CartesianRepresentation (x, y, z) in cm\n",
            "    [(-29.88271271, -8.07163624, 81.67780662)]>}\n",
            "{'obj': [366], 'system': [227], 'system_name': ['ksi UMa'], 'obj_name': ['ksi UMa Bb'], 'coord': <CartesianRepresentation (x, y, z) in cm\n",
            "    [(-29.88271271, -8.07163624, 81.67780662)]>}\n",
            "{'obj': [367], 'system': [227], 'system_name': ['ksi UMa'], 'obj_name': ['WISE J111838.70+312537.9'], 'coord': <CartesianRepresentation (x, y, z) in cm\n",
            "    [(-29.88271271, -8.07163624, 81.67780662)]>}\n",
            "{'obj': [368], 'system': [228], 'system_name': ['LSPM J0036+1821'], 'obj_name': ['LSPM J0036+1821'], 'coord': <CartesianRepresentation (x, y, z) in cm\n",
            "    [(-29.21956485, 55.18756612, -61.08769072)]>}\n",
            "{'obj': [369], 'system': [229], 'system_name': ['HD 50281'], 'obj_name': ['HD 50281 A'], 'coord': <CartesianRepresentation (x, y, z) in cm\n",
            "    [(-69.20067432, -53.36048865, -3.30715989)]>}\n",
            "{'obj': [370], 'system': [229], 'system_name': ['HD 50281'], 'obj_name': ['HD 50281 Ba'], 'coord': <CartesianRepresentation (x, y, z) in cm\n",
            "    [(-69.22535049, -53.40742172, -3.32058898)]>}\n",
            "{'obj': [371], 'system': [229], 'system_name': ['HD 50281'], 'obj_name': ['HD 50281 Bb'], 'coord': <CartesianRepresentation (x, y, z) in cm\n",
            "    [(-69.22535049, -53.40742172, -3.32058898)]>}\n",
            "{'obj': [372], 'system': [230], 'system_name': ['MCC 135'], 'obj_name': ['MCC 135'], 'coord': <CartesianRepresentation (x, y, z) in cm\n",
            "    [(-22.98883834, 1.24449861, 84.57613249)]>}\n",
            "{'obj': [373], 'system': [231], 'system_name': ['WISENF J193656.08+040801.2'], 'obj_name': ['WISENF J193656.08+040801.2'], 'coord': <CartesianRepresentation (x, y, z) in cm\n",
            "    [(64.71315327, 58.00471916, -12.4841038)]>}\n",
            "{'obj': [374], 'system': [232], 'system_name': ['41 Ara'], 'obj_name': ['41 Ara Aa'], 'coord': <CartesianRepresentation (x, y, z) in cm\n",
            "    [(83.39613403, -26.6120583, -8.07686176)]>}\n",
            "{'obj': [375], 'system': [232], 'system_name': ['41 Ara'], 'obj_name': ['41 Ara Ab'], 'coord': <CartesianRepresentation (x, y, z) in cm\n",
            "    [(83.39613403, -26.6120583, -8.07686176)]>}\n",
            "{'obj': [376], 'system': [232], 'system_name': ['41 Ara'], 'obj_name': ['41 Ara B'], 'coord': <CartesianRepresentation (x, y, z) in cm\n",
            "    [(83.73816326, -26.72460604, -8.10701193)]>}\n",
            "{'obj': [377], 'system': [233], 'system_name': ['HU Del'], 'obj_name': ['GJ 791.2 A'], 'coord': <CartesianRepresentation (x, y, z) in cm\n",
            "    [(50.18935302, 67.9016455, -25.43051733)]>}\n",
            "{'obj': [378], 'system': [233], 'system_name': ['HU Del'], 'obj_name': ['GJ 791.2 B'], 'coord': <CartesianRepresentation (x, y, z) in cm\n",
            "    [(50.18935302, 67.9016455, -25.43051733)]>}\n",
            "{'obj': [379], 'system': [234], 'system_name': ['HD 192310'], 'obj_name': ['HD 192310'], 'coord': <CartesianRepresentation (x, y, z) in cm\n",
            "    [(73.92830363, 20.67670987, -43.26028908)]>}\n",
            "{'obj': [382], 'system': [235], 'system_name': ['BD-05 5715'], 'obj_name': ['GJ 849'], 'coord': <CartesianRepresentation (x, y, z) in cm\n",
            "    [(34.7029295, 51.24554758, -62.76771869)]>}\n",
            "{'obj': [385], 'system': [236], 'system_name': ['GJ 745'], 'obj_name': ['GJ 745 A'], 'coord': <CartesianRepresentation (x, y, z) in cm\n",
            "    [(52.45317791, 70.41272467, 9.3460186)]>}\n",
            "{'obj': [386], 'system': [236], 'system_name': ['GJ 745'], 'obj_name': ['GJ 745 B'], 'coord': <CartesianRepresentation (x, y, z) in cm\n",
            "    [(52.46535843, 70.43839119, 9.30019145)]>}\n",
            "{'obj': [387], 'system': [237], 'system_name': ['IRAS 06355-7535'], 'obj_name': ['L 32-8'], 'coord': <CartesianRepresentation (x, y, z) in cm\n",
            "    [(22.64337539, -75.20834522, -40.54890304)]>}\n",
            "{'obj': [388], 'system': [237], 'system_name': ['IRAS 06355-7535'], 'obj_name': ['L 32-9'], 'coord': <CartesianRepresentation (x, y, z) in cm\n",
            "    [(22.64989784, -75.2046016, -40.55449163)]>}\n",
            "{'obj': [389], 'system': [238], 'system_name': ['HD 32147'], 'obj_name': ['HD 32147'], 'coord': <CartesianRepresentation (x, y, z) in cm\n",
            "    [(-71.24853535, -33.37167565, -40.39243424)]>}\n",
            "{'obj': [390], 'system': [239], 'system_name': ['G 111-47'], 'obj_name': ['G 111-47'], 'coord': <CartesianRepresentation (x, y, z) in cm\n",
            "    [(-76.97858778, 1.70101939, 43.63353534)]>}\n",
            "{'obj': [391], 'system': [240], 'system_name': ['GJ 867'], 'obj_name': ['GJ 867 A'], 'coord': <CartesianRepresentation (x, y, z) in cm\n",
            "    [(36.12138168, 28.03881748, -76.33055337)]>}\n",
            "{'obj': [392], 'system': [240], 'system_name': ['GJ 867'], 'obj_name': ['GJ 867 B'], 'coord': <CartesianRepresentation (x, y, z) in cm\n",
            "    [(35.92712807, 27.8998398, -75.92204508)]>}\n",
            "{'obj': [393], 'system': [240], 'system_name': ['GJ 867'], 'obj_name': ['GJ 867 C'], 'coord': <CartesianRepresentation (x, y, z) in cm\n",
            "    [(36.12138168, 28.03881748, -76.33055337)]>}\n",
            "{'obj': [394], 'system': [240], 'system_name': ['GJ 867'], 'obj_name': ['GJ 867 D'], 'coord': <CartesianRepresentation (x, y, z) in cm\n",
            "    [(35.92712807, 27.8998398, -75.92204508)]>}\n",
            "{'obj': [395], 'system': [241], 'system_name': ['Ross 695'], 'obj_name': ['Ross 695'], 'coord': <CartesianRepresentation (x, y, z) in cm\n",
            "    [(26.02870854, -58.10062193, 61.83589854)]>}\n",
            "{'obj': [396], 'system': [242], 'system_name': ['LEHPM 3396'], 'obj_name': ['LEHPM 3396'], 'coord': <CartesianRepresentation (x, y, z) in cm\n",
            "    [(-9.20792044, -54.41972934, -69.56664769)]>}\n",
            "{'obj': [397], 'system': [243], 'system_name': ['SCR J0630-7643'], 'obj_name': ['SCR J0630-7643 A'], 'coord': <CartesianRepresentation (x, y, z) in cm\n",
            "    [(24.29498219, -74.87058426, -41.02658938)]>}\n",
            "{'obj': [398], 'system': [243], 'system_name': ['SCR J0630-7643'], 'obj_name': ['SCR J0630-7643 B'], 'coord': <CartesianRepresentation (x, y, z) in cm\n",
            "    [(24.30781216, -74.91052725, -41.04783115)]>}\n",
            "{'obj': [399], 'system': [244], 'system_name': ['2MASSI J0727182+171001'], 'obj_name': ['2MASSI J0727182+171001'], 'coord': <CartesianRepresentation (x, y, z) in cm\n",
            "    [(-79.8237725, -31.07453713, 23.74390561)]>}\n",
            "{'obj': [400], 'system': [245], 'system_name': ['gam Lep'], 'obj_name': ['GJ 216 A'], 'coord': <CartesianRepresentation (x, y, z) in cm\n",
            "    [(-55.5725259, -59.17238911, -36.60992477)]>}\n",
            "{'obj': [401], 'system': [245], 'system_name': ['gam Lep'], 'obj_name': ['GJ 216 B'], 'coord': <CartesianRepresentation (x, y, z) in cm\n",
            "    [(-55.52074363, -59.05690658, -36.54767107)]>}\n",
            "{'obj': [402], 'system': [246], 'system_name': ['G 113-20'], 'obj_name': ['G 113-20'], 'coord': <CartesianRepresentation (x, y, z) in cm\n",
            "    [(-62.92614524, -56.13855472, 29.65252357)]>}\n",
            "{'obj': [403], 'system': [247], 'system_name': ['G 193-27'], 'obj_name': ['G 193-27 A'], 'coord': <CartesianRepresentation (x, y, z) in cm\n",
            "    [(-79.81450559, 22.78923308, 35.38326071)]>}\n",
            "{'obj': [404], 'system': [247], 'system_name': ['G 193-27'], 'obj_name': ['G 193-27 B'], 'coord': <CartesianRepresentation (x, y, z) in cm\n",
            "    [(-79.81450559, 22.78923308, 35.38326071)]>}\n",
            "{'obj': [405], 'system': [248], 'system_name': ['SZ UMa'], 'obj_name': ['SZ UMa A'], 'coord': <CartesianRepresentation (x, y, z) in cm\n",
            "    [(-43.68117417, 40.90073432, 68.18368778)]>}\n",
            "{'obj': [406], 'system': [248], 'system_name': ['SZ UMa'], 'obj_name': ['SZ UMa B'], 'coord': <CartesianRepresentation (x, y, z) in cm\n",
            "    [(-43.68117417, 40.90073432, 68.18368778)]>}\n",
            "{'obj': [407], 'system': [249], 'system_name': ['CD-31 9113'], 'obj_name': ['GJ 433'], 'coord': <CartesianRepresentation (x, y, z) in cm\n",
            "    [(20.65350263, -77.70335575, 42.12408374)]>}\n",
            "{'obj': [411], 'system': [250], 'system_name': ['del Eri'], 'obj_name': ['del Eri'], 'coord': <CartesianRepresentation (x, y, z) in cm\n",
            "    [(-60.02372776, -19.59882659, -65.37344215)]>}\n",
            "{'obj': [412], 'system': [251], 'system_name': ['HD 115953'], 'obj_name': ['HD 115953 Aa'], 'coord': <CartesianRepresentation (x, y, z) in cm\n",
            "    [(-11.22451426, 31.18552452, 84.66632141)]>}\n",
            "{'obj': [413], 'system': [251], 'system_name': ['HD 115953'], 'obj_name': ['HD 115953 Ab'], 'coord': <CartesianRepresentation (x, y, z) in cm\n",
            "    [(-11.22451426, 31.18552452, 84.66632141)]>}\n",
            "{'obj': [414], 'system': [251], 'system_name': ['HD 115953'], 'obj_name': ['HD 115953 B'], 'coord': <CartesianRepresentation (x, y, z) in cm\n",
            "    [(-11.22451426, 31.18552452, 84.66632141)]>}\n",
            "{'obj': [415], 'system': [252], 'system_name': ['LP 469-206'], 'obj_name': ['LP 469-206'], 'coord': <CartesianRepresentation (x, y, z) in cm\n",
            "    [(-57.67276104, 30.05529839, -63.58077456)]>}\n",
            "{'obj': [416], 'system': [253], 'system_name': ['EGGR 246'], 'obj_name': ['EGGR 246'], 'coord': <CartesianRepresentation (x, y, z) in cm\n",
            "    [(-1.01344419, 8.32393837, -90.58162787)]>}\n",
            "{'obj': [417], 'system': [254], 'system_name': ['V374 Peg'], 'obj_name': ['V374 Peg'], 'coord': <CartesianRepresentation (x, y, z) in cm\n",
            "    [(9.96984708, 84.3037761, -32.86038824)]>}\n",
            "{'obj': [418], 'system': [255], 'system_name': ['2MASS J06523073+4710348'], 'obj_name': ['2MASS J06523073+4710348'], 'coord': <CartesianRepresentation (x, y, z) in cm\n",
            "    [(-84.23379137, 16.13755667, 30.72665423)]>}\n",
            "{'obj': [419], 'system': [256], 'system_name': ['WT 460'], 'obj_name': ['WT 460 A'], 'coord': <CartesianRepresentation (x, y, z) in cm\n",
            "    [(64.82330444, -56.88620708, 29.44035404)]>}\n",
            "{'obj': [420], 'system': [256], 'system_name': ['WT 460'], 'obj_name': ['WT 460 B'], 'coord': <CartesianRepresentation (x, y, z) in cm\n",
            "    [(64.82330444, -56.88620708, 29.44035404)]>}\n",
            "{'obj': [421], 'system': [257], 'system_name': ['kap01 Cet'], 'obj_name': ['kap01 Cet'], 'coord': <CartesianRepresentation (x, y, z) in cm\n",
            "    [(-67.73110929, 2.1001715, -63.34779044)]>}\n",
            "{'obj': [422], 'system': [258], 'system_name': ['2MASS J14162408+1348263'], 'obj_name': ['ULAS J141623.94+134836.3'], 'coord': <CartesianRepresentation (x, y, z) in cm\n",
            "    [(36.84207904, 2.11123108, 83.35424824)]>}\n",
            "{'obj': [423], 'system': [258], 'system_name': ['2MASS J14162408+1348263'], 'obj_name': ['2MASS J14162408+1348263'], 'coord': <CartesianRepresentation (x, y, z) in cm\n",
            "    [(37.51638309, 2.14787264, 84.87122672)]>}\n",
            "{'obj': [424], 'system': [259], 'system_name': ['GJ 283'], 'obj_name': ['GJ 283 A'], 'coord': <CartesianRepresentation (x, y, z) in cm\n",
            "    [(-53.75025513, -73.88540498, 3.97321171)]>}\n",
            "{'obj': [425], 'system': [259], 'system_name': ['GJ 283'], 'obj_name': ['GJ 283 B'], 'coord': <CartesianRepresentation (x, y, z) in cm\n",
            "    [(-53.79904341, -73.94282989, 3.96945172)]>}\n",
            "{'obj': [426], 'system': [260], 'system_name': ['WISE J071322.55-291751.9'], 'obj_name': ['WISE J071322.55-291751.9'], 'coord': <CartesianRepresentation (x, y, z) in cm\n",
            "    [(-43.1079544, -79.54025471, -13.62760605)]>}\n",
            "{'obj': [427], 'system': [261], 'system_name': ['2MASS J03552337+1133437'], 'obj_name': ['2MASS J03552337+1133437'], 'coord': <CartesianRepresentation (x, y, z) in cm\n",
            "    [(-78.53278563, 2.48661449, -47.13735205)]>}\n",
            "{'obj': [428], 'system': [262], 'system_name': ['WISEP J213456.73-713743.6'], 'obj_name': ['WISEP J213456.73-713743.6'], 'coord': <CartesianRepresentation (x, y, z) in cm\n",
            "    [(55.7341694, -45.86829837, -56.49052182)]>}\n",
            "{'obj': [429], 'system': [263], 'system_name': ['CF UMa'], 'obj_name': ['HD 103095'], 'coord': <CartesianRepresentation (x, y, z) in cm\n",
            "    [(-25.06882787, 5.06953172, 88.07995241)]>}\n",
            "{'obj': [430], 'system': [264], 'system_name': ['Ross 1015'], 'obj_name': ['Ross 1015'], 'coord': <CartesianRepresentation (x, y, z) in cm\n",
            "    [(8.4744334, 18.27899563, 89.68463542)]>}\n",
            "{'obj': [431], 'system': [265], 'system_name': ['bet Com'], 'obj_name': ['bet Com'], 'coord': <CartesianRepresentation (x, y, z) in cm\n",
            "    [(5.3335792, 5.07161982, 91.68021304)]>}\n",
            "{'obj': [432], 'system': [266], 'system_name': ['2MASS J17502484-0016151'], 'obj_name': ['2MASS J17502484-0016151 A'], 'coord': <CartesianRepresentation (x, y, z) in cm\n",
            "    [(80.79121083, 38.70281146, 21.37222214)]>}\n",
            "{'obj': [433], 'system': [266], 'system_name': ['2MASS J17502484-0016151'], 'obj_name': ['2MASS J17502484-0016151 B'], 'coord': <CartesianRepresentation (x, y, z) in cm\n",
            "    [(80.79121083, 38.70281146, 21.37222214)]>}\n",
            "{'obj': [434], 'system': [267], 'system_name': ['WISEP J232519.54-410534.9'], 'obj_name': ['WISEP J232519.54-410534.9'], 'coord': <CartesianRepresentation (x, y, z) in cm\n",
            "    [(34.71817871, -6.67194669, -85.20778074)]>}\n",
            "{'obj': [435], 'system': [268], 'system_name': ['L 737-9'], 'obj_name': ['L 737-9 A'], 'coord': <CartesianRepresentation (x, y, z) in cm\n",
            "    [(-61.82375776, -49.91098306, -46.99652491)]>}\n",
            "{'obj': [436], 'system': [268], 'system_name': ['L 737-9'], 'obj_name': ['L 737-9 B'], 'coord': <CartesianRepresentation (x, y, z) in cm\n",
            "    [(-61.82375776, -49.91098306, -46.99652491)]>}\n",
            "{'obj': [437], 'system': [269], 'system_name': ['LP 776-46'], 'obj_name': ['LP 776-46'], 'coord': <CartesianRepresentation (x, y, z) in cm\n",
            "    [(-62.48599136, -47.95969149, -48.22383962)]>}\n",
            "{'obj': [438], 'system': [270], 'system_name': ['LP 469-67'], 'obj_name': ['LP 469-67'], 'coord': <CartesianRepresentation (x, y, z) in cm\n",
            "    [(-52.67385386, 30.48686354, -69.4877743)]>}\n",
            "{'obj': [439], 'system': [271], 'system_name': ['gam Pav'], 'obj_name': ['gam Pav'], 'coord': <CartesianRepresentation (x, y, z) in cm\n",
            "    [(59.99132855, -37.25328394, -59.87488166)]>}\n",
            "{'obj': [440], 'system': [272], 'system_name': ['G 112-50'], 'obj_name': ['G 112-50'], 'coord': <CartesianRepresentation (x, y, z) in cm\n",
            "    [(-69.12898111, -57.92706653, 21.51941837)]>}\n",
            "{'obj': [441], 'system': [273], 'system_name': ['HD 102365'], 'obj_name': ['HD 102365 A'], 'coord': <CartesianRepresentation (x, y, z) in cm\n",
            "    [(29.51656556, -82.02332536, 32.95704881)]>}\n",
            "{'obj': [443], 'system': [273], 'system_name': ['HD 102365'], 'obj_name': ['HD 102365 B'], 'coord': <CartesianRepresentation (x, y, z) in cm\n",
            "    [(29.48829962, -81.92587554, 32.92732488)]>}\n",
            "{'obj': [444], 'system': [274], 'system_name': ['WISE J121756.90+162640.8'], 'obj_name': ['WISE J121756.90+162640.8 A'], 'coord': <CartesianRepresentation (x, y, z) in cm\n",
            "    [(-1.76118032, -21.19460898, 90.64841212)]>}\n",
            "{'obj': [445], 'system': [274], 'system_name': ['WISE J121756.90+162640.8'], 'obj_name': ['WISE J121756.90+162640.8 B'], 'coord': <CartesianRepresentation (x, y, z) in cm\n",
            "    [(-1.76118032, -21.19460898, 90.64841212)]>}\n",
            "{'obj': [446], 'system': [275], 'system_name': ['2MASS J00113182+5908400'], 'obj_name': ['2MASS J00113182+5908400'], 'coord': <CartesianRepresentation (x, y, z) in cm\n",
            "    [(-43.38643999, 82.21778125, -5.41816566)]>}\n",
            "{'obj': [447], 'system': [276], 'system_name': ['BD-18 359'], 'obj_name': ['BD-18 359 A'], 'coord': <CartesianRepresentation (x, y, z) in cm\n",
            "    [(-30.80002649, -4.06973695, -87.86844231)]>}\n",
            "{'obj': [448], 'system': [276], 'system_name': ['BD-18 359'], 'obj_name': ['BD-18 359 B'], 'coord': <CartesianRepresentation (x, y, z) in cm\n",
            "    [(-30.80002649, -4.06973695, -87.86844231)]>}\n",
            "{'obj': [449], 'system': [277], 'system_name': ['2MASS J18212815+1414010'], 'obj_name': ['2MASS J18212815+1414010'], 'coord': <CartesianRepresentation (x, y, z) in cm\n",
            "    [(67.17346259, 61.45201525, 20.98168729)]>}\n",
            "{'obj': [450], 'system': [278], 'system_name': ['2MASS J03400942-6724051'], 'obj_name': ['2MASSI J0340094-672405'], 'coord': <CartesianRepresentation (x, y, z) in cm\n",
            "    [(14.92682958, -67.46116099, -63.11449416)]>}\n",
            "{'obj': [451], 'system': [279], 'system_name': ['Ross 837'], 'obj_name': ['Ross 837'], 'coord': <CartesianRepresentation (x, y, z) in cm\n",
            "    [(33.85369981, -3.98829917, 87.1694658)]>}\n",
            "{'obj': [452], 'system': [280], 'system_name': ['WISEPA J045853.89+643452.9'], 'obj_name': ['WISEPA J045853.89+643452.9 A'], 'coord': <CartesianRepresentation (x, y, z) in cm\n",
            "    [(-75.43204162, 51.20515765, 21.71660279)]>}\n",
            "{'obj': [453], 'system': [280], 'system_name': ['WISEPA J045853.89+643452.9'], 'obj_name': ['WISEPA J045853.89+643452.9 B'], 'coord': <CartesianRepresentation (x, y, z) in cm\n",
            "    [(-75.43204162, 51.20515765, 21.71660279)]>}\n",
            "{'obj': [454], 'system': [281], 'system_name': ['CD-30 731'], 'obj_name': ['CD-30 731'], 'coord': <CartesianRepresentation (x, y, z) in cm\n",
            "    [(-17.93678301, -19.85889304, -89.90203059)]>}\n",
            "{'obj': [455], 'system': [282], 'system_name': ['EGGR 41'], 'obj_name': ['EGGR 41'], 'coord': <CartesianRepresentation (x, y, z) in cm\n",
            "    [(-70.80739733, -33.36543463, -52.11882678)]>}\n",
            "{'obj': [456], 'system': [283], 'system_name': ['WISEA J193054.55-205949.4'], 'obj_name': ['WISEA J193054.55-205949.4'], 'coord': <CartesianRepresentation (x, y, z) in cm\n",
            "    [(85.20426885, 27.61615864, -28.76422529)]>}\n",
            "{'obj': [457], 'system': [284], 'system_name': ['GJ 748'], 'obj_name': ['GJ 748 A'], 'coord': <CartesianRepresentation (x, y, z) in cm\n",
            "    [(74.14129185, 57.67810514, -5.43473619)]>}\n",
            "{'obj': [458], 'system': [284], 'system_name': ['GJ 748'], 'obj_name': ['GJ 748 B'], 'coord': <CartesianRepresentation (x, y, z) in cm\n",
            "    [(74.14129185, 57.67810514, -5.43473619)]>}\n",
            "{'obj': [459], 'system': [285], 'system_name': ['CD-45 5378'], 'obj_name': ['CD-45 5378'], 'coord': <CartesianRepresentation (x, y, z) in cm\n",
            "    [(3.66864498, -93.65536527, 9.2871549)]>}\n",
            "{'obj': [460], 'system': [286], 'system_name': ['L 678-39'], 'obj_name': ['GJ 357'], 'coord': <CartesianRepresentation (x, y, z) in cm\n",
            "    [(-24.26459593, -84.00367774, 35.46996797)]>}\n",
            "{'obj': [464], 'system': [287], 'system_name': ['1RXS J115928.5-524717'], 'obj_name': ['1RXS J115928.5-524717'], 'coord': <CartesianRepresentation (x, y, z) in cm\n",
            "    [(39.46763722, -84.61219927, 15.25619136)]>}\n",
            "{'obj': [465], 'system': [288], 'system_name': ['G 222-11'], 'obj_name': ['G 222-11'], 'coord': <CartesianRepresentation (x, y, z) in cm\n",
            "    [(-56.65785779, 63.9378706, 40.66973096)]>}\n",
            "{'obj': [466], 'system': [289], 'system_name': ['UCAC4 379-100760'], 'obj_name': ['UCAC4 379-100760'], 'coord': <CartesianRepresentation (x, y, z) in cm\n",
            "    [(91.41429705, 24.3785526, 5.45280764)]>}\n",
            "{'obj': [467], 'system': [290], 'system_name': ['HD 285968'], 'obj_name': ['GJ 176'], 'coord': <CartesianRepresentation (x, y, z) in cm\n",
            "    [(-90.49802606, -0.0337202, -28.40764228)]>}\n",
            "{'obj': [469], 'system': [291], 'system_name': ['CD-51 6859'], 'obj_name': ['CD-51 6859'], 'coord': <CartesianRepresentation (x, y, z) in cm\n",
            "    [(47.74517689, -80.0867912, 17.81015764)]>}\n",
            "{'obj': [470], 'system': [292], 'system_name': ['G 234-45'], 'obj_name': ['GJ 3512'], 'coord': <CartesianRepresentation (x, y, z) in cm\n",
            "    [(-69.97951221, 29.35328817, 57.10560991)]>}\n",
            "{'obj': [473], 'system': [293], 'system_name': ['BPS CS 22879-0089'], 'obj_name': ['BPS CS 22879-0089 A'], 'coord': <CartesianRepresentation (x, y, z) in cm\n",
            "    [(73.94655403, 2.19746185, -59.75422417)]>}\n",
            "{'obj': [474], 'system': [293], 'system_name': ['BPS CS 22879-0089'], 'obj_name': ['BPS CS 22879-0089 B'], 'coord': <CartesianRepresentation (x, y, z) in cm\n",
            "    [(73.94655403, 2.19746185, -59.75422417)]>}\n",
            "{'obj': [475], 'system': [294], 'system_name': ['L 35-12'], 'obj_name': ['L 35-12'], 'coord': <CartesianRepresentation (x, y, z) in cm\n",
            "    [(34.42592134, -82.86353486, -31.82741258)]>}\n",
            "{'obj': [476], 'system': [295], 'system_name': ['G 192-15'], 'obj_name': ['G 192-15'], 'coord': <CartesianRepresentation (x, y, z) in cm\n",
            "    [(-88.84589344, 26.75983534, 21.62653599)]>}\n",
            "{'obj': [477], 'system': [296], 'system_name': ['G 144-25'], 'obj_name': ['G 144-25'], 'coord': <CartesianRepresentation (x, y, z) in cm\n",
            "    [(45.74410367, 79.51811842, -25.85825043)]>}\n",
            "{'obj': [478], 'system': [297], 'system_name': ['BD+43 2796'], 'obj_name': ['BD+43 2796'], 'coord': <CartesianRepresentation (x, y, z) in cm\n",
            "    [(28.95822663, 77.24294594, 47.74924302)]>}\n",
            "{'obj': [479], 'system': [298], 'system_name': ['G 42-24'], 'obj_name': ['G 42-24'], 'coord': <CartesianRepresentation (x, y, z) in cm\n",
            "    [(-53.04930984, -32.78737398, 72.26334422)]>}\n",
            "{'obj': [480], 'system': [299], 'system_name': ['20 Crt'], 'obj_name': ['HD 100623 A'], 'coord': <CartesianRepresentation (x, y, z) in cm\n",
            "    [(21.65627732, -82.12353117, 43.86579763)]>}\n",
            "{'obj': [481], 'system': [299], 'system_name': ['20 Crt'], 'obj_name': ['HD 100623 B'], 'coord': <CartesianRepresentation (x, y, z) in cm\n",
            "    [(21.65396585, -82.0885219, 43.84540787)]>}\n",
            "{'obj': [482], 'system': [300], 'system_name': ['Wolf 1069'], 'obj_name': ['Wolf 1069'], 'coord': <CartesianRepresentation (x, y, z) in cm\n",
            "    [(-6.12253905, 93.55663732, 19.42262226)]>}\n",
            "{'obj': [483], 'system': [301], 'system_name': ['61 UMa'], 'obj_name': ['61 UMa'], 'coord': <CartesianRepresentation (x, y, z) in cm\n",
            "    [(-27.42514305, -1.70387962, 91.73541583)]>}\n",
            "{'obj': [484], 'system': [302], 'system_name': ['PM J20502-3424'], 'obj_name': ['PM J20502-3424'], 'coord': <CartesianRepresentation (x, y, z) in cm\n",
            "    [(74.28049956, 11.8944149, -59.69290317)]>}\n",
            "{'obj': [485], 'system': [303], 'system_name': ['CD-40 5404'], 'obj_name': ['CD-40 5404'], 'coord': <CartesianRepresentation (x, y, z) in cm\n",
            "    [(-2.5525143, -94.94208758, 14.42384114)]>}\n",
            "{'obj': [486], 'system': [304], 'system_name': ['WISE J114156.71-332635.8'], 'obj_name': ['WISE J114156.71-332635.8'], 'coord': <CartesianRepresentation (x, y, z) in cm\n",
            "    [(24.51071817, -81.91497684, 43.98549072)]>}\n",
            "{'obj': [487], 'system': [305], 'system_name': ['Wolf 227'], 'obj_name': ['Wolf 227 A'], 'coord': <CartesianRepresentation (x, y, z) in cm\n",
            "    [(-84.91729806, 10.27168495, -44.92781706)]>}\n",
            "{'obj': [488], 'system': [305], 'system_name': ['Wolf 227'], 'obj_name': ['Wolf 227 B'], 'coord': <CartesianRepresentation (x, y, z) in cm\n",
            "    [(-84.91729806, 10.27168495, -44.92781706)]>}\n",
            "{'obj': [489], 'system': [306], 'system_name': ['2MASS J14053729+8350248'], 'obj_name': ['2MASS J14053729+8350248'], 'coord': <CartesianRepresentation (x, y, z) in cm\n",
            "    [(-41.3000009, 69.82006111, 52.57438897)]>}\n",
            "{'obj': [490], 'system': [307], 'system_name': ['G 161-7'], 'obj_name': ['G 161-7 A'], 'coord': <CartesianRepresentation (x, y, z) in cm\n",
            "    [(-42.07471708, -76.53133952, 41.69557565)]>}\n",
            "{'obj': [491], 'system': [307], 'system_name': ['G 161-7'], 'obj_name': ['G 161-7 B'], 'coord': <CartesianRepresentation (x, y, z) in cm\n",
            "    [(-42.07471708, -76.53133952, 41.69557565)]>}\n",
            "{'obj': [492], 'system': [308], 'system_name': ['CD-48 11837'], 'obj_name': ['CD-48 11837 A'], 'coord': <CartesianRepresentation (x, y, z) in cm\n",
            "    [(91.05058084, -29.44532872, -14.58056629)]>}\n",
            "{'obj': [493], 'system': [308], 'system_name': ['CD-48 11837'], 'obj_name': ['CD-48 11837 B'], 'coord': <CartesianRepresentation (x, y, z) in cm\n",
            "    [(91.14402201, -29.47487032, -14.59338306)]>}\n",
            "{'obj': [494], 'system': [309], 'system_name': ['CFBDS J005910-011401'], 'obj_name': ['CFBDS J005910-011401'], 'coord': <CartesianRepresentation (x, y, z) in cm\n",
            "    [(-25.73630574, 33.71942375, -87.12119602)]>}\n",
            "{'obj': [495], 'system': [310], 'system_name': ['L 768-119'], 'obj_name': ['L 768-119 A'], 'coord': <CartesianRepresentation (x, y, z) in cm\n",
            "    [(84.25949411, -16.19484599, 45.06888591)]>}\n",
            "{'obj': [496], 'system': [310], 'system_name': ['L 768-119'], 'obj_name': ['L 768-119 B'], 'coord': <CartesianRepresentation (x, y, z) in cm\n",
            "    [(84.25949411, -16.19484599, 45.06888591)]>}\n",
            "{'obj': [497], 'system': [311], 'system_name': ['AT Mic'], 'obj_name': ['AT Mic A'], 'coord': <CartesianRepresentation (x, y, z) in cm\n",
            "    [(78.40906232, 15.43807137, -58.79733121)]>}\n",
            "{'obj': [498], 'system': [311], 'system_name': ['AT Mic'], 'obj_name': ['AT Mic B'], 'coord': <CartesianRepresentation (x, y, z) in cm\n",
            "    [(77.50122243, 15.25862761, -58.11736555)]>}\n",
            "{'obj': [499], 'system': [311], 'system_name': ['AT Mic'], 'obj_name': ['AU Mic'], 'coord': <CartesianRepresentation (x, y, z) in cm\n",
            "    [(75.89078057, 17.03730917, -58.1952302)]>}\n",
            "{'obj': [501], 'system': [312], 'system_name': ['G 268-110'], 'obj_name': ['G 268-110'], 'coord': <CartesianRepresentation (x, y, z) in cm\n",
            "    [(-12.86553347, 9.81339543, -96.41989552)]>}\n",
            "{'obj': [502], 'system': [313], 'system_name': ['G 48-20'], 'obj_name': ['G 48-20'], 'coord': <CartesianRepresentation (x, y, z) in cm\n",
            "    [(-48.41766839, -65.25491546, 56.73881704)]>}\n",
            "{'obj': [503], 'system': [314], 'system_name': ['L 88-59'], 'obj_name': ['L 88-59'], 'coord': <CartesianRepresentation (x, y, z) in cm\n",
            "    [(27.30370266, -57.53417816, -73.3974561)]>}\n",
            "{'obj': [504], 'system': [315], 'system_name': ['WISE J223617.59+510551.9'], 'obj_name': ['WISE J223617.59+510551.9'], 'coord': <CartesianRepresentation (x, y, z) in cm\n",
            "    [(-20.69996604, 94.44782305, -10.66732298)]>}\n",
            "{'obj': [505], 'system': [316], 'system_name': ['2MASS J20304235+0749358'], 'obj_name': ['2MASS J20304235+0749358'], 'coord': <CartesianRepresentation (x, y, z) in cm\n",
            "    [(56.9790968, 72.93049342, -29.96384708)]>}\n",
            "{'obj': [506], 'system': [317], 'system_name': ['G 119-36'], 'obj_name': ['G 119-36 A'], 'coord': <CartesianRepresentation (x, y, z) in cm\n",
            "    [(-44.10169133, -5.67376388, 86.56985648)]>}\n",
            "{'obj': [507], 'system': [317], 'system_name': ['G 119-36'], 'obj_name': ['G 119-36 B'], 'coord': <CartesianRepresentation (x, y, z) in cm\n",
            "    [(-44.10169133, -5.67376388, 86.56985648)]>}\n",
            "{'obj': [508], 'system': [318], 'system_name': ['2MASS J02572581-3105523'], 'obj_name': ['2MASS J02572581-3105523'], 'coord': <CartesianRepresentation (x, y, z) in cm\n",
            "    [(-29.85765402, -34.04322862, -86.20222848)]>}\n",
            "{'obj': [509], 'system': [319], 'system_name': ['WISE J111239.24-385700.7'], 'obj_name': ['WISE J111239.24-385700.7'], 'coord': <CartesianRepresentation (x, y, z) in cm\n",
            "    [(20.13708713, -89.34009035, 33.35333709)]>}\n",
            "{'obj': [510], 'system': [320], 'system_name': ['LP 655-48'], 'obj_name': ['LP 655-48'], 'coord': <CartesianRepresentation (x, y, z) in cm\n",
            "    [(-76.97288071, -31.24268454, -50.9876125)]>}\n",
            "{'obj': [511], 'system': [321], 'system_name': ['Ross 905'], 'obj_name': ['GJ 436'], 'coord': <CartesianRepresentation (x, y, z) in cm\n",
            "    [(-22.3922241, -13.21996955, 94.22822733)]>}\n",
            "{'obj': [513], 'system': [322], 'system_name': ['2MASSW J1515008+484742'], 'obj_name': ['2MASSW J1515008+484742'], 'coord': <CartesianRepresentation (x, y, z) in cm\n",
            "    [(9.05246943, 55.67912063, 80.22639643)]>}\n",
            "{'obj': [514], 'system': [323], 'system_name': ['HD 151288'], 'obj_name': ['HD 151288'], 'coord': <CartesianRepresentation (x, y, z) in cm\n",
            "    [(43.05545425, 62.17122254, 63.05422266)]>}\n",
            "{'obj': [515], 'system': [324], 'system_name': ['CFBDS J213926+022023'], 'obj_name': ['CFBDS J213926+022023 A'], 'coord': <CartesianRepresentation (x, y, z) in cm\n",
            "    [(43.12020081, 67.98383945, -56.79316282)]>}\n",
            "{'obj': [516], 'system': [324], 'system_name': ['CFBDS J213926+022023'], 'obj_name': ['CFBDS J213926+022023 B'], 'coord': <CartesianRepresentation (x, y, z) in cm\n",
            "    [(43.12020081, 67.98383945, -56.79316282)]>}\n",
            "{'obj': [517], 'system': [325], 'system_name': ['BD+61 195'], 'obj_name': ['BD+61 195'], 'coord': <CartesianRepresentation (x, y, z) in cm\n",
            "    [(-55.46777578, 81.5095148, -0.85669976)]>}\n",
            "{'obj': [519], 'system': [325], 'system_name': ['BD+61 195'], 'obj_name': ['BD+61 195 B'], 'coord': <CartesianRepresentation (x, y, z) in cm\n",
            "    [(-55.6073743, 81.47534019, -0.8158486)]>}\n",
            "{'obj': [520], 'system': [326], 'system_name': ['2MASS J07584037+3247245'], 'obj_name': ['2MASS J07584037+3247245'], 'coord': <CartesianRepresentation (x, y, z) in cm\n",
            "    [(-86.59507455, -12.43984561, 45.73321366)]>}\n",
            "{'obj': [521], 'system': [327], 'system_name': ['BD+66 34'], 'obj_name': ['GJ 22 A'], 'coord': <CartesianRepresentation (x, y, z) in cm\n",
            "    [(-50.9501594, 84.45063962, 7.64039483)]>}\n",
            "{'obj': [522], 'system': [327], 'system_name': ['BD+66 34'], 'obj_name': ['GJ 22 B'], 'coord': <CartesianRepresentation (x, y, z) in cm\n",
            "    [(-51.30008557, 85.03115452, 7.69108613)]>}\n",
            "{'obj': [523], 'system': [327], 'system_name': ['BD+66 34'], 'obj_name': ['GJ 22 C'], 'coord': <CartesianRepresentation (x, y, z) in cm\n",
            "    [(-50.9501594, 84.45063962, 7.64039483)]>}\n",
            "{'obj': [524], 'system': [328], 'system_name': ['12 Oph'], 'obj_name': ['12 Oph'], 'coord': <CartesianRepresentation (x, y, z) in cm\n",
            "    [(84.53921575, 20.64750414, 47.07252034)]>}\n",
            "{'obj': [525], 'system': [329], 'system_name': ['UPM J0815-2344'], 'obj_name': ['UPM J0815-2344 A'], 'coord': <CartesianRepresentation (x, y, z) in cm\n",
            "    [(-43.71725435, -88.15034013, 10.64713815)]>}\n",
            "{'obj': [526], 'system': [329], 'system_name': ['UPM J0815-2344'], 'obj_name': ['UPM J0815-2344 B'], 'coord': <CartesianRepresentation (x, y, z) in cm\n",
            "    [(-43.71725435, -88.15034013, 10.64713815)]>}\n",
            "{'obj': [527], 'system': [330], 'system_name': ['G 203-42'], 'obj_name': ['G 203-42'], 'coord': <CartesianRepresentation (x, y, z) in cm\n",
            "    [(15.70189296, 77.04163388, 60.2918942)]>}\n",
            "{'obj': [528], 'system': [331], 'system_name': ['HD 232979'], 'obj_name': ['HD 232979'], 'coord': <CartesianRepresentation (x, y, z) in cm\n",
            "    [(-88.27523299, 44.51577009, 6.71599317)]>}\n",
            "{'obj': [529], 'system': [332], 'system_name': ['G 160-28'], 'obj_name': ['G 160-28'], 'coord': <CartesianRepresentation (x, y, z) in cm\n",
            "    [(-70.6551363, -18.91460432, -67.12448146)]>}\n",
            "{'obj': [530], 'system': [333], 'system_name': ['G 184-19'], 'obj_name': ['GJ 1230 A'], 'coord': <CartesianRepresentation (x, y, z) in cm\n",
            "    [(56.45823352, 78.53009261, 22.58066681)]>}\n",
            "{'obj': [531], 'system': [333], 'system_name': ['G 184-19'], 'obj_name': ['GJ 1230 B'], 'coord': <CartesianRepresentation (x, y, z) in cm\n",
            "    [(56.5292191, 78.63252994, 22.61050234)]>}\n",
            "{'obj': [532], 'system': [333], 'system_name': ['G 184-19'], 'obj_name': ['GJ 1230 C'], 'coord': <CartesianRepresentation (x, y, z) in cm\n",
            "    [(56.45823352, 78.53009261, 22.58066681)]>}\n",
            "{'obj': [533], 'system': [334], 'system_name': ['BD+16 2708'], 'obj_name': ['BD+16 2708 A'], 'coord': <CartesianRepresentation (x, y, z) in cm\n",
            "    [(48.0426937, 15.7532475, 85.67204637)]>}\n",
            "{'obj': [534], 'system': [334], 'system_name': ['BD+16 2708'], 'obj_name': ['BD+16 2708 Ba'], 'coord': <CartesianRepresentation (x, y, z) in cm\n",
            "    [(48.04246087, 15.75558415, 85.67174724)]>}\n",
            "{'obj': [535], 'system': [334], 'system_name': ['BD+16 2708'], 'obj_name': ['BD+16 2708 Bb'], 'coord': <CartesianRepresentation (x, y, z) in cm\n",
            "    [(48.04246087, 15.75558415, 85.67174724)]>}\n",
            "{'obj': [536], 'system': [335], 'system_name': ['L 403-31'], 'obj_name': ['L 403-31'], 'coord': <CartesianRepresentation (x, y, z) in cm\n",
            "    [(68.87927987, -64.58725128, 31.05977654)]>}\n",
            "{'obj': [537], 'system': [336], 'system_name': ['LP 98-79'], 'obj_name': ['LP 98-79'], 'coord': <CartesianRepresentation (x, y, z) in cm\n",
            "    [(-12.65600272, 58.30439757, 79.86561218)]>}\n",
            "{'obj': [538], 'system': [337], 'system_name': ['WISE J182831.08+265037.7'], 'obj_name': ['WISE J182831.08+265037.7'], 'coord': <CartesianRepresentation (x, y, z) in cm\n",
            "    [(54.70842795, 78.35127235, 28.43123207)]>}\n",
            "{'obj': [539], 'system': [338], 'system_name': ['G 36-24'], 'obj_name': ['G 36-24'], 'coord': <CartesianRepresentation (x, y, z) in cm\n",
            "    [(-73.3880057, 41.47250244, -53.52557812)]>}\n",
            "{'obj': [540], 'system': [339], 'system_name': ['HD 260655'], 'obj_name': ['HD 260655'], 'coord': <CartesianRepresentation (x, y, z) in cm\n",
            "    [(-95.9138612, -26.90706678, 8.47959347)]>}\n",
            "{'obj': [1001], 'system': [1001], 'system_name': ['CWISE J061741.79+194512.8'], 'obj_name': ['CWISE J061741.79+194512.8 A'], 'coord': <CartesianRepresentation (x, y, z) in cm\n",
            "    [(-73.61883835, -15.09902914, 2.34878287)]>}\n",
            "{'obj': [1002], 'system': [1001], 'system_name': ['CWISE J061741.79+194512.8'], 'obj_name': ['CWISE J061741.79+194512.8 B'], 'coord': <CartesianRepresentation (x, y, z) in cm\n",
            "    [(-73.61883835, -15.09902914, 2.34878287)]>}\n",
            "{'obj': [1003], 'system': [1002], 'system_name': ['ULAS J133553.45+113005.2'], 'obj_name': ['ULAS J133553.45+113005.2'], 'coord': <CartesianRepresentation (x, y, z) in cm\n",
            "    [(30.07145312, -11.64925096, 94.76303445)]>}\n",
            "{'obj': [1004], 'system': [1003], 'system_name': ['Ross 440'], 'obj_name': ['Ross 440 A'], 'coord': <CartesianRepresentation (x, y, z) in cm\n",
            "    [(-35.81590779, -81.94276773, 45.01829444)]>}\n",
            "{'obj': [1005], 'system': [1003], 'system_name': ['Ross 440'], 'obj_name': ['Ross 440 B'], 'coord': <CartesianRepresentation (x, y, z) in cm\n",
            "    [(-35.81573044, -81.94275412, 45.01846032)]>}\n",
            "{'obj': [1006], 'system': [1004], 'system_name': ['WISE J033605.05-014350.4'], 'obj_name': ['WISE J033605.05-014350.4'], 'coord': <CartesianRepresentation (x, y, z) in cm\n",
            "    [(-72.55346178, -9.24224779, -68.48865863)]>}\n",
            "{'obj': [1007], 'system': [1005], 'system_name': ['2MASS J13243559+6358284'], 'obj_name': ['2MASS J13243559+6358284'], 'coord': <CartesianRepresentation (x, y, z) in cm\n",
            "    [(-27.48973559, 54.10565937, 79.8571421)]>}\n",
            "{'obj': [1008], 'system': [1006], 'system_name': ['WISE J064723.23-623235.5'], 'obj_name': ['WISE J064723.23-623235.5'], 'coord': <CartesianRepresentation (x, y, z) in cm\n",
            "    [(4.05753, -91.49217854, -41.3941149)]>}\n",
            "{'obj': [1009], 'system': [1007], 'system_name': ['WISEPA J181210.85+272144.3'], 'obj_name': ['WISEPA J181210.85+272144.3'], 'coord': <CartesianRepresentation (x, y, z) in cm\n",
            "    [(55.80229302, 77.27305452, 34.95521016)]>}\n",
            "{'obj': [1010], 'system': [1008], 'system_name': ['WISEU J050305.68-564834.0'], 'obj_name': ['WISEU J050305.68-564834.0'], 'coord': <CartesianRepresentation (x, y, z) in cm\n",
            "    [(-6.71195877, -80.84431651, -61.38417451)]>}\n",
            "{'obj': [1011], 'system': [1009], 'system_name': ['WISE J161441.46+173935.5'], 'obj_name': ['WISE J161441.46+173935.5'], 'coord': <CartesianRepresentation (x, y, z) in cm\n",
            "    [(63.37828453, 40.49925242, 68.65101782)]>}\n",
            "{'obj': [1012], 'system': [1010], 'system_name': ['WISEPA J075108.79-763449.6'], 'obj_name': ['WISEPA J075108.79-763449.6'], 'coord': <CartesianRepresentation (x, y, z) in cm\n",
            "    [(30.36071185, -89.00669919, -39.87035353)]>}\n",
            "{'obj': [1013], 'system': [1011], 'system_name': ['G 100-28'], 'obj_name': ['G 100-28 A'], 'coord': <CartesianRepresentation (x, y, z) in cm\n",
            "    [(-102.17135917, -5.19980157, -5.64140664)]>}\n",
            "{'obj': [1014], 'system': [1011], 'system_name': ['G 100-28'], 'obj_name': ['G 100-28 B'], 'coord': <CartesianRepresentation (x, y, z) in cm\n",
            "    [(-102.17135917, -5.19980157, -5.64140664)]>}\n",
            "{'obj': [1015], 'system': [1012], 'system_name': ['WISE J094305.98+360723.5'], 'obj_name': ['WISE J094305.98+360723.5'], 'coord': <CartesianRepresentation (x, y, z) in cm\n",
            "    [(-66.4659021, -9.44836943, 78.09772321)]>}\n",
            "{'obj': [1016], 'system': [1013], 'system_name': ['2MASS J12373919+6526148'], 'obj_name': ['2MASS J12373919+6526148'], 'coord': <CartesianRepresentation (x, y, z) in cm\n",
            "    [(-37.28166724, 52.77406338, 81.60798569)]>}\n",
            "{'obj': [1017], 'system': [1014], 'system_name': ['CWISEP J144606.62-231717.8'], 'obj_name': ['CWISEP J144606.62-231717.8'], 'coord': <CartesianRepresentation (x, y, z) in cm\n",
            "    [(79.59319025, -38.09874935, 56.1702284)]>}\n",
            "{'obj': [1018], 'system': [1015], 'system_name': ['WISEA J083011.95+283716.0'], 'obj_name': ['WISEA J083011.95+283716.0'], 'coord': <CartesianRepresentation (x, y, z) in cm\n",
            "    [(-89.43346418, -23.85879451, 60.12582596)]>}\n",
            "{'obj': [1019], 'system': [1016], 'system_name': ['CWISEP J023842.60-133210.7'], 'obj_name': ['CWISEP J023842.60-133210.7'], 'coord': <CartesianRepresentation (x, y, z) in cm\n",
            "    [(-54.7757444, -9.46847248, -102.43971653)]>}\n"
          ]
        },
        {
          "name": "stderr",
          "output_type": "stream",
          "text": [
            "error uploading: HTTPSConnectionPool(host='api.segment.io', port=443): Max retries exceeded with url: /v1/batch (Caused by NewConnectionError('<urllib3.connection.HTTPSConnection object at 0x00000205354DB790>: Failed to establish a new connection: [Errno 11001] getaddrinfo failed'))\n"
          ]
        }
      ],
      "source": [
        "for catalogObject in nearbyObjects10pc:\n",
        "    if not catalogObject['OBJ_CAT'] == 'Planet':\n",
        "        #print(catalogObject['NB_OBJ', 'NB_SYS', 'OBJ_NAME'])\n",
        "\n",
        "        star_coord = SkyCoord(\n",
        "            ra=[catalogObject['RA']]*u.degree,\n",
        "            dec=[catalogObject['DEC']]*u.degree,\n",
        "            distance=([catalogObject['PARALLAX']] * u.mas).to(u.pc, equivalencies=u.parallax()),\n",
        "            frame= 'icrs'\n",
        "            ).galactic.cartesian * scale_factor\n",
        "\n",
        "\n",
        "        star = dict(obj= [catalogObject['NB_OBJ']],\n",
        "            system= [catalogObject['NB_SYS']],\n",
        "            system_name= [catalogObject['SYSTEM_NAME']],\n",
        "            obj_name= [catalogObject['OBJ_NAME']],\n",
        "            coord= star_coord\n",
        "            )\n",
        "\n",
        "        #stars.add_row(star)\n",
        "        print(star)"
      ]
    }
  ],
  "metadata": {
    "kernelspec": {
      "display_name": "Python 3 (ipykernel)",
      "language": "python",
      "name": "python3"
    },
    "language_info": {
      "codemirror_mode": {
        "name": "ipython",
        "version": 3
      },
      "file_extension": ".py",
      "mimetype": "text/x-python",
      "name": "python",
      "nbconvert_exporter": "python",
      "pygments_lexer": "ipython3",
      "version": "3.9.12"
    },
    "toc-autonumbering": false,
    "toc-showcode": false,
    "toc-showmarkdowntxt": false,
    "colab": {
      "provenance": [],
      "include_colab_link": true
    }
  },
  "nbformat": 4,
  "nbformat_minor": 5
}